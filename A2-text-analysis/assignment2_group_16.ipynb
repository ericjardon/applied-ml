{
  "cells": [
    {
      "cell_type": "markdown",
      "metadata": {
        "id": "OSWaUuL96b2T"
      },
      "source": [
        "# Classification of Textual Data"
      ]
    },
    {
      "cell_type": "code",
      "execution_count": null,
      "metadata": {
        "id": "HBjbRo8p7yGx"
      },
      "outputs": [],
      "source": [
        "import sys\n",
        "import numpy as np\n",
        "import pandas as pd\n",
        "import scipy\n",
        "%matplotlib notebook\n",
        "%matplotlib inline\n",
        "import matplotlib.pyplot as plt\n",
        "from sklearn import preprocessing\n",
        "from IPython.core.debugger import set_trace\n",
        "import warnings\n",
        "warnings.filterwarnings('ignore')\n",
        "\n",
        "np.random.seed(1234)"
      ]
    },
    {
      "cell_type": "markdown",
      "metadata": {
        "id": "BK31MMMt7_HV"
      },
      "source": [
        "#### Utilities"
      ]
    },
    {
      "cell_type": "code",
      "execution_count": null,
      "metadata": {
        "id": "jK7so-V18AhJ"
      },
      "outputs": [],
      "source": [
        "def logistic(z):\n",
        "    '''Computes element-wise logistic for input vector z'''\n",
        "    return 1./ (1 + np.exp(-z))\n",
        "\n",
        "def cost_fn(x, y, w):\n",
        "    '''Computes mean Cross Entropy as cost for Logistic Classifier'''\n",
        "    N, D = x.shape                                                       \n",
        "    z = np.dot(x, w)\n",
        "    J = np.mean(y * np.log1p(np.exp(-z)) + (1-y) * np.log1p(np.exp(z)))  #log1p calculates log(1+x) to remove floating point inaccuracies \n",
        "    return J"
      ]
    },
    {
      "cell_type": "code",
      "execution_count": null,
      "metadata": {
        "id": "M3j2bJosMVJW"
      },
      "outputs": [],
      "source": [
        "# KNN benchmarking\n",
        "from sklearn.neighbors import KNeighborsClassifier\n",
        "from sklearn.metrics import accuracy_score\n",
        "from pprint import pprint\n",
        "\n",
        "def get_knn(X_train, y_train, X_eval, y_eval):\n",
        "  k_to_test = range(1, 10)\n",
        "  benchmark = {}\n",
        "  for k in k_to_test:\n",
        "    model = KNeighborsClassifier(n_neighbors=k)\n",
        "    model.fit(X_train, y_train)\n",
        "    y_pred_eval = model.predict(X_eval)\n",
        "    accuracy = accuracy_score(y_pred_eval, y_eval)\n",
        "    benchmark[k] = accuracy\n",
        "  pprint(benchmark)\n",
        "\n",
        "  best_k = max(benchmark, key=benchmark.get)\n",
        "  print(\"Best K:\", best_k, \"with acc:\", benchmark.get(best_k))\n",
        "  return best_k"
      ]
    },
    {
      "cell_type": "code",
      "execution_count": null,
      "metadata": {
        "id": "L_-nCsAXw58T"
      },
      "outputs": [],
      "source": [
        "# Multi label accuracy evaluation\n",
        "def evaluate(y, y_pred):\n",
        "    accuracy = sum(y_pred.argmax(axis=1) == y.argmax(axis=1))\n",
        "    accuracy = accuracy / y.shape[0]\n",
        "    return accuracy"
      ]
    },
    {
      "cell_type": "code",
      "execution_count": null,
      "metadata": {
        "id": "H_YpjfM9_UP2"
      },
      "outputs": [],
      "source": [
        "def plot_word_scores(words_df, title, score_label='Z score'):\n",
        "    '''\n",
        "    Plots a horizontal barplot for a dataframe with words and scores columns\n",
        "    '''\n",
        "    words = list(words_df['word'])\n",
        "    scores = list(words_df['score'])\n",
        "    plt.clf()\n",
        "    \n",
        "    y_pos = np.arange(len(words))\n",
        "    fig, ax = plt.subplots()\n",
        "\n",
        "    hbars = ax.barh(y_pos, scores, align='center')\n",
        "    ax.set_yticks(y_pos)\n",
        "    ax.set_yticklabels(words)\n",
        "    ax.invert_yaxis() # labels read top to bottom\n",
        "    ax.set_xlabel(score_label)\n",
        "    ax.set_title(title)\n",
        "    plt.savefig(title, bbox_inches=\"tight\", dpi=300)\n",
        "    plt.show()"
      ]
    },
    {
      "cell_type": "markdown",
      "metadata": {
        "id": "C3AIlJqXC09k"
      },
      "source": [
        "# 1. Data preprocessing (IMDB)\n",
        "**Required Files Warning:** the following code expects the files `test_labeledBow.feat`, `train_labeledBow.feat` and `imdb.vocab` to be in the Files Menu. Please drag the required files and rename the file names as indicated above.\n",
        "\n",
        "\n",
        "This section prepares the IMDB dataset for logistic regression by performing feature selection of 500 most correlated words and relabeling the response variable into binary labels. The results are stored in `imdb_train_X` and `imdb_train_y`."
      ]
    },
    {
      "cell_type": "code",
      "execution_count": null,
      "metadata": {
        "id": "9sOu8NC1DACd"
      },
      "outputs": [],
      "source": [
        "## IF USING GOOGLE -- NO WRITE PRIVILEGES\n",
        "# from google.colab import drive\n",
        "# drive.mount('/gdrive')\n",
        "# %cd /gdrive\n",
        "# File paths:\n",
        "# # ./MyDrive/datasets/imdb/train_labeledBow.feat\n",
        "# # ./MyDrive/datasets/imdb/test_labeledBow.feat\n",
        "# # ./MyDrive/datasets/imdb/imdb.vocab"
      ]
    },
    {
      "cell_type": "markdown",
      "metadata": {
        "id": "nvirKrIIFzQe"
      },
      "source": [
        "### Load imdb Train data"
      ]
    },
    {
      "cell_type": "code",
      "execution_count": null,
      "metadata": {
        "colab": {
          "base_uri": "https://localhost:8080/",
          "height": 424
        },
        "id": "zhtmO6dHk_hz",
        "outputId": "151d9ba8-2da3-420e-e87a-5097b9111080"
      },
      "outputs": [
        {
          "data": {
            "text/html": [
              "\n",
              "  <div id=\"df-6e3c7f36-9bb0-4492-997b-7675c3d57651\">\n",
              "    <div class=\"colab-df-container\">\n",
              "      <div>\n",
              "<style scoped>\n",
              "    .dataframe tbody tr th:only-of-type {\n",
              "        vertical-align: middle;\n",
              "    }\n",
              "\n",
              "    .dataframe tbody tr th {\n",
              "        vertical-align: top;\n",
              "    }\n",
              "\n",
              "    .dataframe thead th {\n",
              "        text-align: right;\n",
              "    }\n",
              "</style>\n",
              "<table border=\"1\" class=\"dataframe\">\n",
              "  <thead>\n",
              "    <tr style=\"text-align: right;\">\n",
              "      <th></th>\n",
              "      <th>0</th>\n",
              "    </tr>\n",
              "  </thead>\n",
              "  <tbody>\n",
              "    <tr>\n",
              "      <th>0</th>\n",
              "      <td>the</td>\n",
              "    </tr>\n",
              "    <tr>\n",
              "      <th>1</th>\n",
              "      <td>and</td>\n",
              "    </tr>\n",
              "    <tr>\n",
              "      <th>2</th>\n",
              "      <td>a</td>\n",
              "    </tr>\n",
              "    <tr>\n",
              "      <th>3</th>\n",
              "      <td>of</td>\n",
              "    </tr>\n",
              "    <tr>\n",
              "      <th>4</th>\n",
              "      <td>to</td>\n",
              "    </tr>\n",
              "    <tr>\n",
              "      <th>...</th>\n",
              "      <td>...</td>\n",
              "    </tr>\n",
              "    <tr>\n",
              "      <th>89522</th>\n",
              "      <td>copywrite</td>\n",
              "    </tr>\n",
              "    <tr>\n",
              "      <th>89523</th>\n",
              "      <td>artbox</td>\n",
              "    </tr>\n",
              "    <tr>\n",
              "      <th>89524</th>\n",
              "      <td>kinky-sex</td>\n",
              "    </tr>\n",
              "    <tr>\n",
              "      <th>89525</th>\n",
              "      <td>urrrghhh</td>\n",
              "    </tr>\n",
              "    <tr>\n",
              "      <th>89526</th>\n",
              "      <td>investigator-like</td>\n",
              "    </tr>\n",
              "  </tbody>\n",
              "</table>\n",
              "<p>89527 rows × 1 columns</p>\n",
              "</div>\n",
              "      <button class=\"colab-df-convert\" onclick=\"convertToInteractive('df-6e3c7f36-9bb0-4492-997b-7675c3d57651')\"\n",
              "              title=\"Convert this dataframe to an interactive table.\"\n",
              "              style=\"display:none;\">\n",
              "        \n",
              "  <svg xmlns=\"http://www.w3.org/2000/svg\" height=\"24px\"viewBox=\"0 0 24 24\"\n",
              "       width=\"24px\">\n",
              "    <path d=\"M0 0h24v24H0V0z\" fill=\"none\"/>\n",
              "    <path d=\"M18.56 5.44l.94 2.06.94-2.06 2.06-.94-2.06-.94-.94-2.06-.94 2.06-2.06.94zm-11 1L8.5 8.5l.94-2.06 2.06-.94-2.06-.94L8.5 2.5l-.94 2.06-2.06.94zm10 10l.94 2.06.94-2.06 2.06-.94-2.06-.94-.94-2.06-.94 2.06-2.06.94z\"/><path d=\"M17.41 7.96l-1.37-1.37c-.4-.4-.92-.59-1.43-.59-.52 0-1.04.2-1.43.59L10.3 9.45l-7.72 7.72c-.78.78-.78 2.05 0 2.83L4 21.41c.39.39.9.59 1.41.59.51 0 1.02-.2 1.41-.59l7.78-7.78 2.81-2.81c.8-.78.8-2.07 0-2.86zM5.41 20L4 18.59l7.72-7.72 1.47 1.35L5.41 20z\"/>\n",
              "  </svg>\n",
              "      </button>\n",
              "      \n",
              "  <style>\n",
              "    .colab-df-container {\n",
              "      display:flex;\n",
              "      flex-wrap:wrap;\n",
              "      gap: 12px;\n",
              "    }\n",
              "\n",
              "    .colab-df-convert {\n",
              "      background-color: #E8F0FE;\n",
              "      border: none;\n",
              "      border-radius: 50%;\n",
              "      cursor: pointer;\n",
              "      display: none;\n",
              "      fill: #1967D2;\n",
              "      height: 32px;\n",
              "      padding: 0 0 0 0;\n",
              "      width: 32px;\n",
              "    }\n",
              "\n",
              "    .colab-df-convert:hover {\n",
              "      background-color: #E2EBFA;\n",
              "      box-shadow: 0px 1px 2px rgba(60, 64, 67, 0.3), 0px 1px 3px 1px rgba(60, 64, 67, 0.15);\n",
              "      fill: #174EA6;\n",
              "    }\n",
              "\n",
              "    [theme=dark] .colab-df-convert {\n",
              "      background-color: #3B4455;\n",
              "      fill: #D2E3FC;\n",
              "    }\n",
              "\n",
              "    [theme=dark] .colab-df-convert:hover {\n",
              "      background-color: #434B5C;\n",
              "      box-shadow: 0px 1px 3px 1px rgba(0, 0, 0, 0.15);\n",
              "      filter: drop-shadow(0px 1px 2px rgba(0, 0, 0, 0.3));\n",
              "      fill: #FFFFFF;\n",
              "    }\n",
              "  </style>\n",
              "\n",
              "      <script>\n",
              "        const buttonEl =\n",
              "          document.querySelector('#df-6e3c7f36-9bb0-4492-997b-7675c3d57651 button.colab-df-convert');\n",
              "        buttonEl.style.display =\n",
              "          google.colab.kernel.accessAllowed ? 'block' : 'none';\n",
              "\n",
              "        async function convertToInteractive(key) {\n",
              "          const element = document.querySelector('#df-6e3c7f36-9bb0-4492-997b-7675c3d57651');\n",
              "          const dataTable =\n",
              "            await google.colab.kernel.invokeFunction('convertToInteractive',\n",
              "                                                     [key], {});\n",
              "          if (!dataTable) return;\n",
              "\n",
              "          const docLinkHtml = 'Like what you see? Visit the ' +\n",
              "            '<a target=\"_blank\" href=https://colab.research.google.com/notebooks/data_table.ipynb>data table notebook</a>'\n",
              "            + ' to learn more about interactive tables.';\n",
              "          element.innerHTML = '';\n",
              "          dataTable['output_type'] = 'display_data';\n",
              "          await google.colab.output.renderOutput(dataTable, element);\n",
              "          const docLink = document.createElement('div');\n",
              "          docLink.innerHTML = docLinkHtml;\n",
              "          element.appendChild(docLink);\n",
              "        }\n",
              "      </script>\n",
              "    </div>\n",
              "  </div>\n",
              "  "
            ],
            "text/plain": [
              "                       0\n",
              "0                    the\n",
              "1                    and\n",
              "2                      a\n",
              "3                     of\n",
              "4                     to\n",
              "...                  ...\n",
              "89522          copywrite\n",
              "89523             artbox\n",
              "89524          kinky-sex\n",
              "89525           urrrghhh\n",
              "89526  investigator-like\n",
              "\n",
              "[89527 rows x 1 columns]"
            ]
          },
          "execution_count": 9,
          "metadata": {},
          "output_type": "execute_result"
        }
      ],
      "source": [
        "# Use load_svmlight_file to read the libsvm files\n",
        "from sklearn.datasets import load_svmlight_file\n",
        "imdb_train_file = 'train_labeledBow.feat'\n",
        "\n",
        "# X is a scipy.sparse.csr_matrix type, y is a list of target values (movie ratings)\n",
        "imdb_train_X, imdb_train_y = load_svmlight_file(imdb_train_file, multilabel=True)\n",
        "\n",
        "# Read in the list of vocabulary words\n",
        "imdb_vocab_file = 'imdb.vocab'\n",
        "full_vocabulary = pd.read_csv(imdb_vocab_file, header=None)\n",
        "full_vocabulary"
      ]
    },
    {
      "cell_type": "code",
      "execution_count": null,
      "metadata": {
        "colab": {
          "base_uri": "https://localhost:8080/",
          "height": 317
        },
        "id": "LbeFQNYyDNU7",
        "outputId": "86fedda5-71f8-4ec7-eaaa-d77f2b968f6a"
      },
      "outputs": [
        {
          "name": "stdout",
          "output_type": "stream",
          "text": [
            "[12500 12500]\n",
            "[0 1]\n"
          ]
        },
        {
          "data": {
            "image/png": "[encoded data removed]",
            "text/plain": [
              "<Figure size 432x288 with 1 Axes>"
            ]
          },
          "metadata": {},
          "output_type": "display_data"
        }
      ],
      "source": [
        "# Class distribution\n",
        "import matplotlib.pyplot as plt\n",
        "\n",
        "fig, ax = plt.subplots()\n",
        "\n",
        "pos_neg_label = np.where(np.array(imdb_train_y).squeeze() > 5, 1, 0)\n",
        "\n",
        "label_names = {\n",
        "    0: 'Negative',\n",
        "    1: 'Positive',\n",
        "}\n",
        "\n",
        "unique, counts = np.unique(pos_neg_label, return_counts=True)\n",
        "print(counts)\n",
        "print(unique)\n",
        "\n",
        "bar_colors = ['tab:red', 'tab:blue']\n",
        "\n",
        "ax.bar([label_names[x] for x in unique], counts, color=bar_colors)\n",
        "\n",
        "ax.set_ylabel('Occurences')\n",
        "ax.set_title('Category Distribution')\n",
        "\n",
        "plt.show()\n"
      ]
    },
    {
      "cell_type": "markdown",
      "metadata": {
        "id": "1HQOUE2GodUW"
      },
      "source": [
        "### 1.1 Feature Selection\n"
      ]
    },
    {
      "cell_type": "code",
      "execution_count": null,
      "metadata": {
        "colab": {
          "base_uri": "https://localhost:8080/"
        },
        "id": "0ItKru8arSEF",
        "outputId": "e40a821f-04fb-4f90-c4ab-55638ee133f6"
      },
      "outputs": [
        {
          "name": "stdout",
          "output_type": "stream",
          "text": [
            "Train set size N = 25000\n",
            "# of words in vocabulary = 89527\n"
          ]
        }
      ],
      "source": [
        "# Examine the shapes of our data\n",
        "train_shape = imdb_train_X.get_shape()\n",
        "print(f\"Train set size N = {train_shape[0]}\")\n",
        "print(f\"# of words in vocabulary = {train_shape[1]}\")"
      ]
    },
    {
      "cell_type": "markdown",
      "metadata": {
        "id": "h8pL8kmPpn8i"
      },
      "source": [
        "#### Filtering out stopwords and rare words\n",
        "We remove uncommon or \"rare\" words that appear in less than 1% of the documents and  stopwords appear in more than 50% of the documents. We will only count from the **training set** of the documents."
      ]
    },
    {
      "cell_type": "code",
      "execution_count": null,
      "metadata": {
        "colab": {
          "base_uri": "https://localhost:8080/"
        },
        "id": "Nt-igCJEofN5",
        "outputId": "e7e23522-b57a-4ccc-cbb0-6da581a2bc13"
      },
      "outputs": [
        {
          "name": "stdout",
          "output_type": "stream",
          "text": [
            "Min document appearances 250\n",
            "Max document appearances 12500\n",
            "Filtering for 89527 words...\n",
            "[Filtered features in 7.2900 seconds]\n",
            "Surviving features: 1734\n"
          ]
        }
      ],
      "source": [
        "import time\n",
        "\n",
        "N_DOCUMENTS = imdb_train_X.shape[0]\n",
        "N_FEATURES = imdb_train_X.shape[1]\n",
        "\n",
        "# Keep the indexes of words that are not stopwords or uncommon\n",
        "good_words = []\n",
        "min_count = round(N_DOCUMENTS*0.01)\n",
        "max_count = round(N_DOCUMENTS*0.50)\n",
        "print(\"Min document appearances\", min_count)\n",
        "print(\"Max document appearances\", max_count)\n",
        "\n",
        "# Convert to CSC sparse matrix for efficient column slicing\n",
        "imdb_train_X_CSC = imdb_train_X.tocsc() # Linear complexity. Specifically O(nnz(A) + max(n_row,n_col))\n",
        "\n",
        "print(f\"Filtering for {N_FEATURES} words...\")\n",
        "tic = time.perf_counter()\n",
        "for word_id in range(N_FEATURES):\n",
        "    word_column = imdb_train_X_CSC.getcol(word_id)\n",
        "    n_docs = word_column.getnnz()\n",
        "    if min_count < n_docs < max_count:\n",
        "        good_words.append(word_id)\n",
        "\n",
        "toc = time.perf_counter()\n",
        "print(f\"[Filtered features in {toc - tic:0.4f} seconds]\")\n",
        "print(\"Surviving features:\", len(good_words))"
      ]
    },
    {
      "cell_type": "code",
      "execution_count": null,
      "metadata": {
        "colab": {
          "base_uri": "https://localhost:8080/",
          "height": 513
        },
        "id": "VeH2rVP25mwX",
        "outputId": "b4b1a4c4-a142-451c-ba38-ddff2f2f2da0"
      },
      "outputs": [
        {
          "name": "stdout",
          "output_type": "stream",
          "text": [
            "Filtered dataset shape (documents, words): (25000, 1734)\n",
            "---\n",
            "Testing correctness of column-word correspondence after index reset:\n",
            "PASSED\n",
            "---\n"
          ]
        },
        {
          "data": {
            "text/html": [
              "\n",
              "  <div id=\"df-30a396df-3192-4c6b-87a6-196aebe6c243\">\n",
              "    <div class=\"colab-df-container\">\n",
              "      <div>\n",
              "<style scoped>\n",
              "    .dataframe tbody tr th:only-of-type {\n",
              "        vertical-align: middle;\n",
              "    }\n",
              "\n",
              "    .dataframe tbody tr th {\n",
              "        vertical-align: top;\n",
              "    }\n",
              "\n",
              "    .dataframe thead th {\n",
              "        text-align: right;\n",
              "    }\n",
              "</style>\n",
              "<table border=\"1\" class=\"dataframe\">\n",
              "  <thead>\n",
              "    <tr style=\"text-align: right;\">\n",
              "      <th></th>\n",
              "      <th>index</th>\n",
              "      <th>0</th>\n",
              "    </tr>\n",
              "  </thead>\n",
              "  <tbody>\n",
              "    <tr>\n",
              "      <th>0</th>\n",
              "      <td>21</td>\n",
              "      <td>he</td>\n",
              "    </tr>\n",
              "    <tr>\n",
              "      <th>1</th>\n",
              "      <td>23</td>\n",
              "      <td>his</td>\n",
              "    </tr>\n",
              "    <tr>\n",
              "      <th>2</th>\n",
              "      <td>27</td>\n",
              "      <td>!</td>\n",
              "    </tr>\n",
              "    <tr>\n",
              "      <th>3</th>\n",
              "      <td>30</td>\n",
              "      <td>by</td>\n",
              "    </tr>\n",
              "    <tr>\n",
              "      <th>4</th>\n",
              "      <td>31</td>\n",
              "      <td>an</td>\n",
              "    </tr>\n",
              "    <tr>\n",
              "      <th>...</th>\n",
              "      <td>...</td>\n",
              "      <td>...</td>\n",
              "    </tr>\n",
              "    <tr>\n",
              "      <th>1729</th>\n",
              "      <td>1924</td>\n",
              "      <td>portray</td>\n",
              "    </tr>\n",
              "    <tr>\n",
              "      <th>1730</th>\n",
              "      <td>1929</td>\n",
              "      <td>discovered</td>\n",
              "    </tr>\n",
              "    <tr>\n",
              "      <th>1731</th>\n",
              "      <td>1933</td>\n",
              "      <td>aware</td>\n",
              "    </tr>\n",
              "    <tr>\n",
              "      <th>1732</th>\n",
              "      <td>1935</td>\n",
              "      <td>continues</td>\n",
              "    </tr>\n",
              "    <tr>\n",
              "      <th>1733</th>\n",
              "      <td>1938</td>\n",
              "      <td>below</td>\n",
              "    </tr>\n",
              "  </tbody>\n",
              "</table>\n",
              "<p>1734 rows × 2 columns</p>\n",
              "</div>\n",
              "      <button class=\"colab-df-convert\" onclick=\"convertToInteractive('df-30a396df-3192-4c6b-87a6-196aebe6c243')\"\n",
              "              title=\"Convert this dataframe to an interactive table.\"\n",
              "              style=\"display:none;\">\n",
              "        \n",
              "  <svg xmlns=\"http://www.w3.org/2000/svg\" height=\"24px\"viewBox=\"0 0 24 24\"\n",
              "       width=\"24px\">\n",
              "    <path d=\"M0 0h24v24H0V0z\" fill=\"none\"/>\n",
              "    <path d=\"M18.56 5.44l.94 2.06.94-2.06 2.06-.94-2.06-.94-.94-2.06-.94 2.06-2.06.94zm-11 1L8.5 8.5l.94-2.06 2.06-.94-2.06-.94L8.5 2.5l-.94 2.06-2.06.94zm10 10l.94 2.06.94-2.06 2.06-.94-2.06-.94-.94-2.06-.94 2.06-2.06.94z\"/><path d=\"M17.41 7.96l-1.37-1.37c-.4-.4-.92-.59-1.43-.59-.52 0-1.04.2-1.43.59L10.3 9.45l-7.72 7.72c-.78.78-.78 2.05 0 2.83L4 21.41c.39.39.9.59 1.41.59.51 0 1.02-.2 1.41-.59l7.78-7.78 2.81-2.81c.8-.78.8-2.07 0-2.86zM5.41 20L4 18.59l7.72-7.72 1.47 1.35L5.41 20z\"/>\n",
              "  </svg>\n",
              "      </button>\n",
              "      \n",
              "  <style>\n",
              "    .colab-df-container {\n",
              "      display:flex;\n",
              "      flex-wrap:wrap;\n",
              "      gap: 12px;\n",
              "    }\n",
              "\n",
              "    .colab-df-convert {\n",
              "      background-color: #E8F0FE;\n",
              "      border: none;\n",
              "      border-radius: 50%;\n",
              "      cursor: pointer;\n",
              "      display: none;\n",
              "      fill: #1967D2;\n",
              "      height: 32px;\n",
              "      padding: 0 0 0 0;\n",
              "      width: 32px;\n",
              "    }\n",
              "\n",
              "    .colab-df-convert:hover {\n",
              "      background-color: #E2EBFA;\n",
              "      box-shadow: 0px 1px 2px rgba(60, 64, 67, 0.3), 0px 1px 3px 1px rgba(60, 64, 67, 0.15);\n",
              "      fill: #174EA6;\n",
              "    }\n",
              "\n",
              "    [theme=dark] .colab-df-convert {\n",
              "      background-color: #3B4455;\n",
              "      fill: #D2E3FC;\n",
              "    }\n",
              "\n",
              "    [theme=dark] .colab-df-convert:hover {\n",
              "      background-color: #434B5C;\n",
              "      box-shadow: 0px 1px 3px 1px rgba(0, 0, 0, 0.15);\n",
              "      filter: drop-shadow(0px 1px 2px rgba(0, 0, 0, 0.3));\n",
              "      fill: #FFFFFF;\n",
              "    }\n",
              "  </style>\n",
              "\n",
              "      <script>\n",
              "        const buttonEl =\n",
              "          document.querySelector('#df-30a396df-3192-4c6b-87a6-196aebe6c243 button.colab-df-convert');\n",
              "        buttonEl.style.display =\n",
              "          google.colab.kernel.accessAllowed ? 'block' : 'none';\n",
              "\n",
              "        async function convertToInteractive(key) {\n",
              "          const element = document.querySelector('#df-30a396df-3192-4c6b-87a6-196aebe6c243');\n",
              "          const dataTable =\n",
              "            await google.colab.kernel.invokeFunction('convertToInteractive',\n",
              "                                                     [key], {});\n",
              "          if (!dataTable) return;\n",
              "\n",
              "          const docLinkHtml = 'Like what you see? Visit the ' +\n",
              "            '<a target=\"_blank\" href=https://colab.research.google.com/notebooks/data_table.ipynb>data table notebook</a>'\n",
              "            + ' to learn more about interactive tables.';\n",
              "          element.innerHTML = '';\n",
              "          dataTable['output_type'] = 'display_data';\n",
              "          await google.colab.output.renderOutput(dataTable, element);\n",
              "          const docLink = document.createElement('div');\n",
              "          docLink.innerHTML = docLinkHtml;\n",
              "          element.appendChild(docLink);\n",
              "        }\n",
              "      </script>\n",
              "    </div>\n",
              "  </div>\n",
              "  "
            ],
            "text/plain": [
              "      index           0\n",
              "0        21          he\n",
              "1        23         his\n",
              "2        27           !\n",
              "3        30          by\n",
              "4        31          an\n",
              "...     ...         ...\n",
              "1729   1924     portray\n",
              "1730   1929  discovered\n",
              "1731   1933       aware\n",
              "1732   1935   continues\n",
              "1733   1938       below\n",
              "\n",
              "[1734 rows x 2 columns]"
            ]
          },
          "execution_count": 13,
          "metadata": {},
          "output_type": "execute_result"
        }
      ],
      "source": [
        "# Filter vocabulary using the good_words array\n",
        "filter_vocabulary = full_vocabulary.iloc[good_words]\n",
        "filter_vocabulary.reset_index(inplace=True)    # reset to 0,1,2... but keep original word id\n",
        "\n",
        "first_word_col = (imdb_train_X_CSC.getcol(good_words[0]).toarray())\n",
        "last_word_col = (imdb_train_X_CSC.getcol(good_words[-1]).toarray())\n",
        "\n",
        "# Filter data using the good_words array\n",
        "filter_imdb_train_X = (imdb_train_X_CSC[:, good_words]).tocsr()\n",
        "\n",
        "# Quick sanity check\n",
        "first_word_col_filtered = (filter_imdb_train_X.getcol(0).toarray())\n",
        "last_word_col_filtered = (filter_imdb_train_X.getcol(filter_imdb_train_X.shape[1]-1).toarray())\n",
        "\n",
        "print(\"Filtered dataset shape (documents, words):\", filter_imdb_train_X.get_shape())\n",
        "\n",
        "print(\"---\")\n",
        "print(\"Testing correctness of column-word correspondence after index reset:\")\n",
        "if (np.all(first_word_col == first_word_col_filtered) and \\\n",
        "    np.all(last_word_col == last_word_col_filtered)):\n",
        "    print(\"PASSED\")\n",
        "else:\n",
        "    print(\"FAILED\")\n",
        "print(\"---\")\n",
        "\n",
        "# Cleanup\n",
        "del full_vocabulary\n",
        "del imdb_train_X_CSC\n",
        "\n",
        "filter_vocabulary"
      ]
    },
    {
      "cell_type": "markdown",
      "metadata": {
        "id": "kqdGtdIBCGQE"
      },
      "source": [
        "#### Feature selection based on Z-score"
      ]
    },
    {
      "cell_type": "code",
      "execution_count": null,
      "metadata": {
        "colab": {
          "base_uri": "https://localhost:8080/"
        },
        "id": "XBxzl_xgbu_F",
        "outputId": "a07e25c9-3597-45ed-e3e5-ff00c2e4a57e"
      },
      "outputs": [
        {
          "name": "stdout",
          "output_type": "stream",
          "text": [
            "Before transforming y\n",
            "[[ 9.]\n",
            " [ 7.]\n",
            " [ 9.]\n",
            " [10.]\n",
            " [ 8.]]\n",
            "After transforming y\n",
            "[[3.]\n",
            " [1.]\n",
            " [3.]\n",
            " [4.]\n",
            " [2.]]\n"
          ]
        }
      ],
      "source": [
        "# Our target variable has values 1, 2, 3, 4 or 7, 8, 9, 10 \n",
        "# To get negative and positive correlation values, use a transformed version of y to compute z scores, \n",
        "# where the ratings are mapped to a negative or positive scale from 1-5.\n",
        "\n",
        "y = np.array(imdb_train_y)\n",
        "print(\"Before transforming y\")\n",
        "print(y[:5])\n",
        "y = np.where(y < 5, -y, y-6)\n",
        "print(\"After transforming y\")\n",
        "print(y[:5])"
      ]
    },
    {
      "cell_type": "code",
      "execution_count": null,
      "metadata": {
        "colab": {
          "base_uri": "https://localhost:8080/",
          "height": 442
        },
        "id": "VkN7mLt3Akb-",
        "outputId": "e888e6b3-62ac-4001-8432-fe55e42c32c3"
      },
      "outputs": [
        {
          "name": "stdout",
          "output_type": "stream",
          "text": [
            "Z-score matrix shape: (1734, 1)\n"
          ]
        },
        {
          "data": {
            "text/html": [
              "\n",
              "  <div id=\"df-b4a44b32-116b-49e0-a286-dd372ec05854\">\n",
              "    <div class=\"colab-df-container\">\n",
              "      <div>\n",
              "<style scoped>\n",
              "    .dataframe tbody tr th:only-of-type {\n",
              "        vertical-align: middle;\n",
              "    }\n",
              "\n",
              "    .dataframe tbody tr th {\n",
              "        vertical-align: top;\n",
              "    }\n",
              "\n",
              "    .dataframe thead th {\n",
              "        text-align: right;\n",
              "    }\n",
              "</style>\n",
              "<table border=\"1\" class=\"dataframe\">\n",
              "  <thead>\n",
              "    <tr style=\"text-align: right;\">\n",
              "      <th></th>\n",
              "      <th>index</th>\n",
              "      <th>word</th>\n",
              "      <th>score</th>\n",
              "    </tr>\n",
              "  </thead>\n",
              "  <tbody>\n",
              "    <tr>\n",
              "      <th>0</th>\n",
              "      <td>23</td>\n",
              "      <td>his</td>\n",
              "      <td>86.570513</td>\n",
              "    </tr>\n",
              "    <tr>\n",
              "      <th>1</th>\n",
              "      <td>27</td>\n",
              "      <td>!</td>\n",
              "      <td>78.784986</td>\n",
              "    </tr>\n",
              "    <tr>\n",
              "      <th>2</th>\n",
              "      <td>83</td>\n",
              "      <td>great</td>\n",
              "      <td>71.492773</td>\n",
              "    </tr>\n",
              "    <tr>\n",
              "      <th>3</th>\n",
              "      <td>46</td>\n",
              "      <td>?</td>\n",
              "      <td>-68.868083</td>\n",
              "    </tr>\n",
              "    <tr>\n",
              "      <th>4</th>\n",
              "      <td>77</td>\n",
              "      <td>bad</td>\n",
              "      <td>-62.145081</td>\n",
              "    </tr>\n",
              "    <tr>\n",
              "      <th>...</th>\n",
              "      <td>...</td>\n",
              "      <td>...</td>\n",
              "      <td>...</td>\n",
              "    </tr>\n",
              "    <tr>\n",
              "      <th>245</th>\n",
              "      <td>385</td>\n",
              "      <td>often</td>\n",
              "      <td>5.723723</td>\n",
              "    </tr>\n",
              "    <tr>\n",
              "      <th>246</th>\n",
              "      <td>485</td>\n",
              "      <td>game</td>\n",
              "      <td>5.692100</td>\n",
              "    </tr>\n",
              "    <tr>\n",
              "      <th>247</th>\n",
              "      <td>383</td>\n",
              "      <td>others</td>\n",
              "      <td>5.692100</td>\n",
              "    </tr>\n",
              "    <tr>\n",
              "      <th>248</th>\n",
              "      <td>662</td>\n",
              "      <td>jack</td>\n",
              "      <td>5.666802</td>\n",
              "    </tr>\n",
              "    <tr>\n",
              "      <th>249</th>\n",
              "      <td>219</td>\n",
              "      <td>bit</td>\n",
              "      <td>5.628854</td>\n",
              "    </tr>\n",
              "  </tbody>\n",
              "</table>\n",
              "<p>250 rows × 3 columns</p>\n",
              "</div>\n",
              "      <button class=\"colab-df-convert\" onclick=\"convertToInteractive('df-b4a44b32-116b-49e0-a286-dd372ec05854')\"\n",
              "              title=\"Convert this dataframe to an interactive table.\"\n",
              "              style=\"display:none;\">\n",
              "        \n",
              "  <svg xmlns=\"http://www.w3.org/2000/svg\" height=\"24px\"viewBox=\"0 0 24 24\"\n",
              "       width=\"24px\">\n",
              "    <path d=\"M0 0h24v24H0V0z\" fill=\"none\"/>\n",
              "    <path d=\"M18.56 5.44l.94 2.06.94-2.06 2.06-.94-2.06-.94-.94-2.06-.94 2.06-2.06.94zm-11 1L8.5 8.5l.94-2.06 2.06-.94-2.06-.94L8.5 2.5l-.94 2.06-2.06.94zm10 10l.94 2.06.94-2.06 2.06-.94-2.06-.94-.94-2.06-.94 2.06-2.06.94z\"/><path d=\"M17.41 7.96l-1.37-1.37c-.4-.4-.92-.59-1.43-.59-.52 0-1.04.2-1.43.59L10.3 9.45l-7.72 7.72c-.78.78-.78 2.05 0 2.83L4 21.41c.39.39.9.59 1.41.59.51 0 1.02-.2 1.41-.59l7.78-7.78 2.81-2.81c.8-.78.8-2.07 0-2.86zM5.41 20L4 18.59l7.72-7.72 1.47 1.35L5.41 20z\"/>\n",
              "  </svg>\n",
              "      </button>\n",
              "      \n",
              "  <style>\n",
              "    .colab-df-container {\n",
              "      display:flex;\n",
              "      flex-wrap:wrap;\n",
              "      gap: 12px;\n",
              "    }\n",
              "\n",
              "    .colab-df-convert {\n",
              "      background-color: #E8F0FE;\n",
              "      border: none;\n",
              "      border-radius: 50%;\n",
              "      cursor: pointer;\n",
              "      display: none;\n",
              "      fill: #1967D2;\n",
              "      height: 32px;\n",
              "      padding: 0 0 0 0;\n",
              "      width: 32px;\n",
              "    }\n",
              "\n",
              "    .colab-df-convert:hover {\n",
              "      background-color: #E2EBFA;\n",
              "      box-shadow: 0px 1px 2px rgba(60, 64, 67, 0.3), 0px 1px 3px 1px rgba(60, 64, 67, 0.15);\n",
              "      fill: #174EA6;\n",
              "    }\n",
              "\n",
              "    [theme=dark] .colab-df-convert {\n",
              "      background-color: #3B4455;\n",
              "      fill: #D2E3FC;\n",
              "    }\n",
              "\n",
              "    [theme=dark] .colab-df-convert:hover {\n",
              "      background-color: #434B5C;\n",
              "      box-shadow: 0px 1px 3px 1px rgba(0, 0, 0, 0.15);\n",
              "      filter: drop-shadow(0px 1px 2px rgba(0, 0, 0, 0.3));\n",
              "      fill: #FFFFFF;\n",
              "    }\n",
              "  </style>\n",
              "\n",
              "      <script>\n",
              "        const buttonEl =\n",
              "          document.querySelector('#df-b4a44b32-116b-49e0-a286-dd372ec05854 button.colab-df-convert');\n",
              "        buttonEl.style.display =\n",
              "          google.colab.kernel.accessAllowed ? 'block' : 'none';\n",
              "\n",
              "        async function convertToInteractive(key) {\n",
              "          const element = document.querySelector('#df-b4a44b32-116b-49e0-a286-dd372ec05854');\n",
              "          const dataTable =\n",
              "            await google.colab.kernel.invokeFunction('convertToInteractive',\n",
              "                                                     [key], {});\n",
              "          if (!dataTable) return;\n",
              "\n",
              "          const docLinkHtml = 'Like what you see? Visit the ' +\n",
              "            '<a target=\"_blank\" href=https://colab.research.google.com/notebooks/data_table.ipynb>data table notebook</a>'\n",
              "            + ' to learn more about interactive tables.';\n",
              "          element.innerHTML = '';\n",
              "          dataTable['output_type'] = 'display_data';\n",
              "          await google.colab.output.renderOutput(dataTable, element);\n",
              "          const docLink = document.createElement('div');\n",
              "          docLink.innerHTML = docLinkHtml;\n",
              "          element.appendChild(docLink);\n",
              "        }\n",
              "      </script>\n",
              "    </div>\n",
              "  </div>\n",
              "  "
            ],
            "text/plain": [
              "     index    word      score\n",
              "0       23     his  86.570513\n",
              "1       27       !  78.784986\n",
              "2       83   great  71.492773\n",
              "3       46       ? -68.868083\n",
              "4       77     bad -62.145081\n",
              "..     ...     ...        ...\n",
              "245    385   often   5.723723\n",
              "246    485    game   5.692100\n",
              "247    383  others   5.692100\n",
              "248    662    jack   5.666802\n",
              "249    219     bit   5.628854\n",
              "\n",
              "[250 rows x 3 columns]"
            ]
          },
          "execution_count": 15,
          "metadata": {},
          "output_type": "execute_result"
        }
      ],
      "source": [
        "# Compute the z-score for each feature column with respect to the target variable y.\n",
        "# We can get z scores with matrix multiplication X'y and then dividing all elements by sqrt(N),\n",
        "# Warning: running the cell several times may drain all of our available RAM in Colaboratory.\n",
        "\n",
        "import math\n",
        "N = filter_imdb_train_X.shape[0]\n",
        "X = filter_imdb_train_X.toarray()    # ndarray\n",
        "y = np.array(y)                      # ndarray\n",
        "\n",
        "# Z scores is a numpy matrix (indexed 0...D-1)\n",
        "Z_scores = np.matmul(X.T, y) \n",
        "Z_scores /= math.sqrt(N)             # ndarray\n",
        "\n",
        "print(\"Z-score matrix shape:\", Z_scores.shape)\n",
        "\n",
        "# Goal: keep the D = 250 features with largest Z-score magnitude\n",
        "abs_Z_scores = abs(Z_scores)\n",
        "top_zscore_indexes = np.argsort(abs_Z_scores[:,0])      # ndarray\n",
        "D = 250\n",
        "top_zscore_indexes = top_zscore_indexes[::-1][:D]\n",
        "\n",
        "# Get Top Words and their top Z Scores into a dataframe\n",
        "top_words_df = filter_vocabulary.iloc[top_zscore_indexes]     # dataframe\n",
        "top_words_df.reset_index(inplace=True, drop=True)             # drop indexes from z score matrix\n",
        "top_scores_df = pd.DataFrame(Z_scores[top_zscore_indexes])    # ndarray\n",
        "\n",
        "words_scores_df = pd.concat([top_words_df, top_scores_df], axis=1)\n",
        "words_scores_df.columns = [\"index\", \"word\", \"score\"]\n",
        "\n",
        "# Column descriptions\n",
        "# index: word id from original imbd.vocab file\n",
        "# word: the string contained in the review\n",
        "# score: the z-score of the word count with respect to rating\n",
        "words_scores_df"
      ]
    },
    {
      "cell_type": "markdown",
      "metadata": {
        "id": "vviL8yWRwxhT"
      },
      "source": [
        "### Examine Negatively and Positively correlated words"
      ]
    },
    {
      "cell_type": "code",
      "execution_count": null,
      "metadata": {
        "id": "XtPL7z7ZuSxS"
      },
      "outputs": [],
      "source": [
        "# Add a new column to classify whether a word is negative or positive\n",
        "words_scores_df['sentiment'] = words_scores_df['score'] > 0"
      ]
    },
    {
      "cell_type": "code",
      "execution_count": null,
      "metadata": {
        "colab": {
          "base_uri": "https://localhost:8080/",
          "height": 381
        },
        "id": "r6rctMQsaI_y",
        "outputId": "8dbd9bb6-c5ce-4a84-bb29-7a5d340d6320"
      },
      "outputs": [
        {
          "name": "stdout",
          "output_type": "stream",
          "text": [
            "# of positively correlated words = 174\n"
          ]
        },
        {
          "data": {
            "text/html": [
              "\n",
              "  <div id=\"df-e72b4083-ccae-41ab-bd63-d5328a587d6a\">\n",
              "    <div class=\"colab-df-container\">\n",
              "      <div>\n",
              "<style scoped>\n",
              "    .dataframe tbody tr th:only-of-type {\n",
              "        vertical-align: middle;\n",
              "    }\n",
              "\n",
              "    .dataframe tbody tr th {\n",
              "        vertical-align: top;\n",
              "    }\n",
              "\n",
              "    .dataframe thead th {\n",
              "        text-align: right;\n",
              "    }\n",
              "</style>\n",
              "<table border=\"1\" class=\"dataframe\">\n",
              "  <thead>\n",
              "    <tr style=\"text-align: right;\">\n",
              "      <th></th>\n",
              "      <th>word</th>\n",
              "      <th>score</th>\n",
              "    </tr>\n",
              "  </thead>\n",
              "  <tbody>\n",
              "    <tr>\n",
              "      <th>0</th>\n",
              "      <td>his</td>\n",
              "      <td>86.570513</td>\n",
              "    </tr>\n",
              "    <tr>\n",
              "      <th>1</th>\n",
              "      <td>!</td>\n",
              "      <td>78.784986</td>\n",
              "    </tr>\n",
              "    <tr>\n",
              "      <th>2</th>\n",
              "      <td>great</td>\n",
              "      <td>71.492773</td>\n",
              "    </tr>\n",
              "    <tr>\n",
              "      <th>5</th>\n",
              "      <td>he</td>\n",
              "      <td>58.976478</td>\n",
              "    </tr>\n",
              "    <tr>\n",
              "      <th>6</th>\n",
              "      <td>best</td>\n",
              "      <td>46.181903</td>\n",
              "    </tr>\n",
              "    <tr>\n",
              "      <th>7</th>\n",
              "      <td>my</td>\n",
              "      <td>46.112333</td>\n",
              "    </tr>\n",
              "    <tr>\n",
              "      <th>8</th>\n",
              "      <td>very</td>\n",
              "      <td>45.815079</td>\n",
              "    </tr>\n",
              "    <tr>\n",
              "      <th>9</th>\n",
              "      <td>love</td>\n",
              "      <td>44.550168</td>\n",
              "    </tr>\n",
              "    <tr>\n",
              "      <th>10</th>\n",
              "      <td>has</td>\n",
              "      <td>40.483479</td>\n",
              "    </tr>\n",
              "    <tr>\n",
              "      <th>11</th>\n",
              "      <td>who</td>\n",
              "      <td>40.205198</td>\n",
              "    </tr>\n",
              "  </tbody>\n",
              "</table>\n",
              "</div>\n",
              "      <button class=\"colab-df-convert\" onclick=\"convertToInteractive('df-e72b4083-ccae-41ab-bd63-d5328a587d6a')\"\n",
              "              title=\"Convert this dataframe to an interactive table.\"\n",
              "              style=\"display:none;\">\n",
              "        \n",
              "  <svg xmlns=\"http://www.w3.org/2000/svg\" height=\"24px\"viewBox=\"0 0 24 24\"\n",
              "       width=\"24px\">\n",
              "    <path d=\"M0 0h24v24H0V0z\" fill=\"none\"/>\n",
              "    <path d=\"M18.56 5.44l.94 2.06.94-2.06 2.06-.94-2.06-.94-.94-2.06-.94 2.06-2.06.94zm-11 1L8.5 8.5l.94-2.06 2.06-.94-2.06-.94L8.5 2.5l-.94 2.06-2.06.94zm10 10l.94 2.06.94-2.06 2.06-.94-2.06-.94-.94-2.06-.94 2.06-2.06.94z\"/><path d=\"M17.41 7.96l-1.37-1.37c-.4-.4-.92-.59-1.43-.59-.52 0-1.04.2-1.43.59L10.3 9.45l-7.72 7.72c-.78.78-.78 2.05 0 2.83L4 21.41c.39.39.9.59 1.41.59.51 0 1.02-.2 1.41-.59l7.78-7.78 2.81-2.81c.8-.78.8-2.07 0-2.86zM5.41 20L4 18.59l7.72-7.72 1.47 1.35L5.41 20z\"/>\n",
              "  </svg>\n",
              "      </button>\n",
              "      \n",
              "  <style>\n",
              "    .colab-df-container {\n",
              "      display:flex;\n",
              "      flex-wrap:wrap;\n",
              "      gap: 12px;\n",
              "    }\n",
              "\n",
              "    .colab-df-convert {\n",
              "      background-color: #E8F0FE;\n",
              "      border: none;\n",
              "      border-radius: 50%;\n",
              "      cursor: pointer;\n",
              "      display: none;\n",
              "      fill: #1967D2;\n",
              "      height: 32px;\n",
              "      padding: 0 0 0 0;\n",
              "      width: 32px;\n",
              "    }\n",
              "\n",
              "    .colab-df-convert:hover {\n",
              "      background-color: #E2EBFA;\n",
              "      box-shadow: 0px 1px 2px rgba(60, 64, 67, 0.3), 0px 1px 3px 1px rgba(60, 64, 67, 0.15);\n",
              "      fill: #174EA6;\n",
              "    }\n",
              "\n",
              "    [theme=dark] .colab-df-convert {\n",
              "      background-color: #3B4455;\n",
              "      fill: #D2E3FC;\n",
              "    }\n",
              "\n",
              "    [theme=dark] .colab-df-convert:hover {\n",
              "      background-color: #434B5C;\n",
              "      box-shadow: 0px 1px 3px 1px rgba(0, 0, 0, 0.15);\n",
              "      filter: drop-shadow(0px 1px 2px rgba(0, 0, 0, 0.3));\n",
              "      fill: #FFFFFF;\n",
              "    }\n",
              "  </style>\n",
              "\n",
              "      <script>\n",
              "        const buttonEl =\n",
              "          document.querySelector('#df-e72b4083-ccae-41ab-bd63-d5328a587d6a button.colab-df-convert');\n",
              "        buttonEl.style.display =\n",
              "          google.colab.kernel.accessAllowed ? 'block' : 'none';\n",
              "\n",
              "        async function convertToInteractive(key) {\n",
              "          const element = document.querySelector('#df-e72b4083-ccae-41ab-bd63-d5328a587d6a');\n",
              "          const dataTable =\n",
              "            await google.colab.kernel.invokeFunction('convertToInteractive',\n",
              "                                                     [key], {});\n",
              "          if (!dataTable) return;\n",
              "\n",
              "          const docLinkHtml = 'Like what you see? Visit the ' +\n",
              "            '<a target=\"_blank\" href=https://colab.research.google.com/notebooks/data_table.ipynb>data table notebook</a>'\n",
              "            + ' to learn more about interactive tables.';\n",
              "          element.innerHTML = '';\n",
              "          dataTable['output_type'] = 'display_data';\n",
              "          await google.colab.output.renderOutput(dataTable, element);\n",
              "          const docLink = document.createElement('div');\n",
              "          docLink.innerHTML = docLinkHtml;\n",
              "          element.appendChild(docLink);\n",
              "        }\n",
              "      </script>\n",
              "    </div>\n",
              "  </div>\n",
              "  "
            ],
            "text/plain": [
              "     word      score\n",
              "0     his  86.570513\n",
              "1       !  78.784986\n",
              "2   great  71.492773\n",
              "5      he  58.976478\n",
              "6    best  46.181903\n",
              "7      my  46.112333\n",
              "8    very  45.815079\n",
              "9    love  44.550168\n",
              "10    has  40.483479\n",
              "11    who  40.205198"
            ]
          },
          "execution_count": 17,
          "metadata": {},
          "output_type": "execute_result"
        }
      ],
      "source": [
        "# Examine top 10 positive words\n",
        "positive_words = words_scores_df[words_scores_df['sentiment']==True].sort_values('score', ascending=False)\n",
        "print(\"# of positively correlated words =\", positive_words.shape[0])\n",
        "positive_words[['word', 'score']].head(10)"
      ]
    },
    {
      "cell_type": "code",
      "execution_count": null,
      "metadata": {
        "colab": {
          "base_uri": "https://localhost:8080/",
          "height": 381
        },
        "id": "fIQ28Bh6xUNo",
        "outputId": "fc093f6c-b40b-493b-f61c-67cd9ecd42d7"
      },
      "outputs": [
        {
          "name": "stdout",
          "output_type": "stream",
          "text": [
            "# of negatively correlated words = 76\n"
          ]
        },
        {
          "data": {
            "text/html": [
              "\n",
              "  <div id=\"df-3b4a3d4e-6cb5-43f5-992a-cb708272955f\">\n",
              "    <div class=\"colab-df-container\">\n",
              "      <div>\n",
              "<style scoped>\n",
              "    .dataframe tbody tr th:only-of-type {\n",
              "        vertical-align: middle;\n",
              "    }\n",
              "\n",
              "    .dataframe tbody tr th {\n",
              "        vertical-align: top;\n",
              "    }\n",
              "\n",
              "    .dataframe thead th {\n",
              "        text-align: right;\n",
              "    }\n",
              "</style>\n",
              "<table border=\"1\" class=\"dataframe\">\n",
              "  <thead>\n",
              "    <tr style=\"text-align: right;\">\n",
              "      <th></th>\n",
              "      <th>word</th>\n",
              "      <th>score</th>\n",
              "    </tr>\n",
              "  </thead>\n",
              "  <tbody>\n",
              "    <tr>\n",
              "      <th>3</th>\n",
              "      <td>?</td>\n",
              "      <td>-68.868083</td>\n",
              "    </tr>\n",
              "    <tr>\n",
              "      <th>4</th>\n",
              "      <td>bad</td>\n",
              "      <td>-62.145081</td>\n",
              "    </tr>\n",
              "    <tr>\n",
              "      <th>19</th>\n",
              "      <td>no</td>\n",
              "      <td>-32.210960</td>\n",
              "    </tr>\n",
              "    <tr>\n",
              "      <th>24</th>\n",
              "      <td>just</td>\n",
              "      <td>-28.460499</td>\n",
              "    </tr>\n",
              "    <tr>\n",
              "      <th>25</th>\n",
              "      <td>there</td>\n",
              "      <td>-26.379720</td>\n",
              "    </tr>\n",
              "    <tr>\n",
              "      <th>35</th>\n",
              "      <td>worst</td>\n",
              "      <td>-21.952532</td>\n",
              "    </tr>\n",
              "    <tr>\n",
              "      <th>42</th>\n",
              "      <td>nothing</td>\n",
              "      <td>-20.681296</td>\n",
              "    </tr>\n",
              "    <tr>\n",
              "      <th>43</th>\n",
              "      <td>plot</td>\n",
              "      <td>-20.649673</td>\n",
              "    </tr>\n",
              "    <tr>\n",
              "      <th>49</th>\n",
              "      <td>even</td>\n",
              "      <td>-18.568894</td>\n",
              "    </tr>\n",
              "    <tr>\n",
              "      <th>52</th>\n",
              "      <td>or</td>\n",
              "      <td>-17.512694</td>\n",
              "    </tr>\n",
              "  </tbody>\n",
              "</table>\n",
              "</div>\n",
              "      <button class=\"colab-df-convert\" onclick=\"convertToInteractive('df-3b4a3d4e-6cb5-43f5-992a-cb708272955f')\"\n",
              "              title=\"Convert this dataframe to an interactive table.\"\n",
              "              style=\"display:none;\">\n",
              "        \n",
              "  <svg xmlns=\"http://www.w3.org/2000/svg\" height=\"24px\"viewBox=\"0 0 24 24\"\n",
              "       width=\"24px\">\n",
              "    <path d=\"M0 0h24v24H0V0z\" fill=\"none\"/>\n",
              "    <path d=\"M18.56 5.44l.94 2.06.94-2.06 2.06-.94-2.06-.94-.94-2.06-.94 2.06-2.06.94zm-11 1L8.5 8.5l.94-2.06 2.06-.94-2.06-.94L8.5 2.5l-.94 2.06-2.06.94zm10 10l.94 2.06.94-2.06 2.06-.94-2.06-.94-.94-2.06-.94 2.06-2.06.94z\"/><path d=\"M17.41 7.96l-1.37-1.37c-.4-.4-.92-.59-1.43-.59-.52 0-1.04.2-1.43.59L10.3 9.45l-7.72 7.72c-.78.78-.78 2.05 0 2.83L4 21.41c.39.39.9.59 1.41.59.51 0 1.02-.2 1.41-.59l7.78-7.78 2.81-2.81c.8-.78.8-2.07 0-2.86zM5.41 20L4 18.59l7.72-7.72 1.47 1.35L5.41 20z\"/>\n",
              "  </svg>\n",
              "      </button>\n",
              "      \n",
              "  <style>\n",
              "    .colab-df-container {\n",
              "      display:flex;\n",
              "      flex-wrap:wrap;\n",
              "      gap: 12px;\n",
              "    }\n",
              "\n",
              "    .colab-df-convert {\n",
              "      background-color: #E8F0FE;\n",
              "      border: none;\n",
              "      border-radius: 50%;\n",
              "      cursor: pointer;\n",
              "      display: none;\n",
              "      fill: #1967D2;\n",
              "      height: 32px;\n",
              "      padding: 0 0 0 0;\n",
              "      width: 32px;\n",
              "    }\n",
              "\n",
              "    .colab-df-convert:hover {\n",
              "      background-color: #E2EBFA;\n",
              "      box-shadow: 0px 1px 2px rgba(60, 64, 67, 0.3), 0px 1px 3px 1px rgba(60, 64, 67, 0.15);\n",
              "      fill: #174EA6;\n",
              "    }\n",
              "\n",
              "    [theme=dark] .colab-df-convert {\n",
              "      background-color: #3B4455;\n",
              "      fill: #D2E3FC;\n",
              "    }\n",
              "\n",
              "    [theme=dark] .colab-df-convert:hover {\n",
              "      background-color: #434B5C;\n",
              "      box-shadow: 0px 1px 3px 1px rgba(0, 0, 0, 0.15);\n",
              "      filter: drop-shadow(0px 1px 2px rgba(0, 0, 0, 0.3));\n",
              "      fill: #FFFFFF;\n",
              "    }\n",
              "  </style>\n",
              "\n",
              "      <script>\n",
              "        const buttonEl =\n",
              "          document.querySelector('#df-3b4a3d4e-6cb5-43f5-992a-cb708272955f button.colab-df-convert');\n",
              "        buttonEl.style.display =\n",
              "          google.colab.kernel.accessAllowed ? 'block' : 'none';\n",
              "\n",
              "        async function convertToInteractive(key) {\n",
              "          const element = document.querySelector('#df-3b4a3d4e-6cb5-43f5-992a-cb708272955f');\n",
              "          const dataTable =\n",
              "            await google.colab.kernel.invokeFunction('convertToInteractive',\n",
              "                                                     [key], {});\n",
              "          if (!dataTable) return;\n",
              "\n",
              "          const docLinkHtml = 'Like what you see? Visit the ' +\n",
              "            '<a target=\"_blank\" href=https://colab.research.google.com/notebooks/data_table.ipynb>data table notebook</a>'\n",
              "            + ' to learn more about interactive tables.';\n",
              "          element.innerHTML = '';\n",
              "          dataTable['output_type'] = 'display_data';\n",
              "          await google.colab.output.renderOutput(dataTable, element);\n",
              "          const docLink = document.createElement('div');\n",
              "          docLink.innerHTML = docLinkHtml;\n",
              "          element.appendChild(docLink);\n",
              "        }\n",
              "      </script>\n",
              "    </div>\n",
              "  </div>\n",
              "  "
            ],
            "text/plain": [
              "       word      score\n",
              "3         ? -68.868083\n",
              "4       bad -62.145081\n",
              "19       no -32.210960\n",
              "24     just -28.460499\n",
              "25    there -26.379720\n",
              "35    worst -21.952532\n",
              "42  nothing -20.681296\n",
              "43     plot -20.649673\n",
              "49     even -18.568894\n",
              "52       or -17.512694"
            ]
          },
          "execution_count": 18,
          "metadata": {},
          "output_type": "execute_result"
        }
      ],
      "source": [
        "# Examine top 10 negative words\n",
        "negative_words = words_scores_df[words_scores_df['sentiment']!=True].sort_values('score', ascending=True)\n",
        "print(\"# of negatively correlated words =\", negative_words.shape[0])\n",
        "negative_words[['word', 'score']].head(10)"
      ]
    },
    {
      "cell_type": "markdown",
      "metadata": {
        "id": "BnmbW5_k48Dd"
      },
      "source": [
        "#### Most Positive and Negative Words"
      ]
    },
    {
      "cell_type": "markdown",
      "metadata": {
        "id": "xp39ZINXZ7n-"
      },
      "source": [
        "Report the top 10 features with the most positive z-scores and the top 10 features with\n",
        "the most negative z-scores on the IMDB data using simple linear regression on the movie\n",
        "rating scores.\n",
        "\n",
        "**Note:** `words_scores_df` is a DataFrame generated in Task 1. If undefined, please run Task 1 first."
      ]
    },
    {
      "cell_type": "code",
      "execution_count": null,
      "metadata": {
        "colab": {
          "base_uri": "https://localhost:8080/",
          "height": 331
        },
        "id": "Wfy9p5xBfdNg",
        "outputId": "42111ba3-aa09-4e3a-8726-39969b6d203d"
      },
      "outputs": [
        {
          "name": "stdout",
          "output_type": "stream",
          "text": [
            "Number of positively correlated words 174\n"
          ]
        },
        {
          "data": {
            "text/plain": [
              "<Figure size 432x288 with 0 Axes>"
            ]
          },
          "metadata": {},
          "output_type": "display_data"
        },
        {
          "data": {
            "image/png": "[encoded data removed]",
            "text/plain": [
              "<Figure size 432x288 with 1 Axes>"
            ]
          },
          "metadata": {},
          "output_type": "display_data"
        }
      ],
      "source": [
        "# Examine top 10 positive words\n",
        "positive_words = words_scores_df[words_scores_df['sentiment']==True].sort_values('score', ascending=False)\n",
        "print(\"Number of positively correlated words\", positive_words.shape[0])\n",
        "plot_word_scores(positive_words[['word', 'score']].head(10), 'Most Positive')"
      ]
    },
    {
      "cell_type": "code",
      "execution_count": null,
      "metadata": {
        "colab": {
          "base_uri": "https://localhost:8080/",
          "height": 331
        },
        "id": "R7uHJU_LfdNh",
        "outputId": "443d9035-a04b-478f-ffda-eb4967d6a08a"
      },
      "outputs": [
        {
          "name": "stdout",
          "output_type": "stream",
          "text": [
            "Number of negatively correlated words 76\n"
          ]
        },
        {
          "data": {
            "text/plain": [
              "<Figure size 432x288 with 0 Axes>"
            ]
          },
          "metadata": {},
          "output_type": "display_data"
        },
        {
          "data": {
            "image/png": "[encoded data removed]",
            "text/plain": [
              "<Figure size 432x288 with 1 Axes>"
            ]
          },
          "metadata": {},
          "output_type": "display_data"
        }
      ],
      "source": [
        "# Examine top 10 negative words\n",
        "negative_words = words_scores_df[words_scores_df['sentiment']!=True].sort_values('score', ascending=True)\n",
        "print(\"Number of negatively correlated words\", negative_words.shape[0])\n",
        "plot_word_scores(negative_words[['word', 'score']].head(10), 'Most Negative')"
      ]
    },
    {
      "cell_type": "markdown",
      "metadata": {
        "id": "4UYQaT-2MqdF"
      },
      "source": [
        "These top features with the most positive and most negative z-scores can be used for calliing a movie good or bad respectively. \n"
      ]
    },
    {
      "cell_type": "markdown",
      "metadata": {
        "id": "CHslumIVg6iL"
      },
      "source": [
        "### Preprocessing results"
      ]
    },
    {
      "cell_type": "code",
      "execution_count": null,
      "metadata": {
        "id": "RMQvER90hGNh"
      },
      "outputs": [],
      "source": [
        "# Get the list selected words vocab ids\n",
        "selected_word_indexes = list(words_scores_df['index'])\n",
        "\n",
        "imdb_train_X = (imdb_train_X.tocsc()[:, selected_word_indexes]).tocsr()\n",
        "\n",
        "# Relabel the data set with binary class; 0 for negative and 1 for positive\n",
        "imdb_train_y = np.where(np.array(imdb_train_y) > 5, 1, 0)"
      ]
    },
    {
      "cell_type": "code",
      "execution_count": null,
      "metadata": {
        "colab": {
          "base_uri": "https://localhost:8080/"
        },
        "id": "koHT9FPVPb78",
        "outputId": "742b73bf-7fd8-47ab-9ce4-e0993afd440c"
      },
      "outputs": [
        {
          "data": {
            "text/plain": [
              "((25000, 1), (25000, 250))"
            ]
          },
          "execution_count": 22,
          "metadata": {},
          "output_type": "execute_result"
        }
      ],
      "source": [
        "imdb_train_y.shape, imdb_train_X.shape"
      ]
    },
    {
      "cell_type": "markdown",
      "metadata": {
        "id": "8OzMTFQQ-VgH"
      },
      "source": [
        "#Data Preprocessing (20 news groups)"
      ]
    },
    {
      "cell_type": "markdown",
      "metadata": {
        "id": "V_k3xxT0b3N2"
      },
      "source": [
        "## Load 20 News Groups Train Data"
      ]
    },
    {
      "cell_type": "code",
      "execution_count": null,
      "metadata": {
        "id": "llK8mByubVDx"
      },
      "outputs": [],
      "source": [
        "import numpy as np\n",
        "import re\n",
        "import string\n",
        "import matplotlib.pyplot as plt\n"
      ]
    },
    {
      "cell_type": "code",
      "execution_count": null,
      "metadata": {
        "id": "P2JhbN9ub0Pw"
      },
      "outputs": [],
      "source": [
        "from sklearn.datasets import fetch_20newsgroups\n",
        "train_dataset = fetch_20newsgroups(subset='train', categories=['comp.graphics', 'rec.sport.hockey', 'sci.med', 'soc.religion.christian'], remove=(['headers', 'footers', 'quotes']))\n",
        "test_dataset = fetch_20newsgroups(subset='test', categories=['comp.graphics', 'rec.sport.hockey', 'sci.med', 'soc.religion.christian'], remove=(['headers', 'footers', 'quotes']))"
      ]
    },
    {
      "cell_type": "code",
      "execution_count": null,
      "metadata": {
        "colab": {
          "base_uri": "https://localhost:8080/"
        },
        "id": "I0tGkppCcDH7",
        "outputId": "a218dafb-560f-4e9a-e883-10285a2a8c26"
      },
      "outputs": [
        {
          "name": "stdout",
          "output_type": "stream",
          "text": [
            "[584 600 594 599]\n",
            "['comp.graphics', 'rec.sport.hockey', 'sci.med', 'soc.religion.christian']\n"
          ]
        },
        {
          "data": {
            "image/png": "[encoded data removed]",
            "text/plain": [
              "<Figure size 432x288 with 1 Axes>"
            ]
          },
          "metadata": {},
          "output_type": "display_data"
        }
      ],
      "source": [
        "# Class distribution\n",
        "\n",
        "import matplotlib.pyplot as plt\n",
        "\n",
        "fig, ax = plt.subplots()\n",
        "\n",
        "unique, counts = np.unique(train_dataset.target, return_counts=True)\n",
        "print(counts)\n",
        "print(train_dataset.target_names)\n",
        "\n",
        "bar_colors = ['tab:red', 'tab:blue', 'tab:red', 'tab:orange']\n",
        "\n",
        "ax.bar(train_dataset.target_names, counts, color=bar_colors)\n",
        "\n",
        "ax.set_ylabel('Occurences')\n",
        "ax.set_title('Category Distribution')\n",
        "\n",
        "plt.show()"
      ]
    },
    {
      "cell_type": "markdown",
      "metadata": {
        "id": "gUPwZnNJvS2h"
      },
      "source": [
        "##Feature Selection using mutual information"
      ]
    },
    {
      "cell_type": "code",
      "execution_count": null,
      "metadata": {
        "id": "LVjn-ah-nCl-"
      },
      "outputs": [],
      "source": [
        "from sklearn.preprocessing import OneHotEncoder, LabelBinarizer\n",
        "from sklearn.feature_selection import mutual_info_classif\n",
        "from sklearn.feature_extraction.text import CountVectorizer\n",
        "from sklearn.metrics import mutual_info_score\n",
        "from collections import defaultdict"
      ]
    },
    {
      "cell_type": "code",
      "execution_count": null,
      "metadata": {
        "id": "svub9R-3m-bx"
      },
      "outputs": [],
      "source": [
        "from pprint import pprint\n",
        "def getBagWords(dataset, num_top_features):\n",
        "  normal_vectorizer = CountVectorizer()\n",
        "  normal_bag = normal_vectorizer.fit_transform(dataset.data)\n",
        "  standardized_words = []\n",
        "  min_count = 0.01 * normal_bag.shape[0]\n",
        "  max_count = 0.50 * normal_bag.shape[0] \n",
        "  for word_id in range(len(normal_vectorizer.get_feature_names_out())): #iterate through all 30945 words\n",
        "    word_column = normal_bag.getcol(word_id) #locate the column of the current word in the sparse matrix\n",
        "    n_docs = word_column.getnnz() #number of documents that contain at least one occurance of the current word\n",
        "    if min_count < n_docs < max_count:\n",
        "        standardized_words.append(word_id)\n",
        "  standardized_vocab = normal_vectorizer.get_feature_names_out()[standardized_words] #getting the feature names of the good words\n",
        "  standardized_vectorizer = CountVectorizer(vocabulary=standardized_vocab)\n",
        "  standardized_bag = standardized_vectorizer.fit_transform(dataset.data) #a new sparse matrix containing columns of good words\n",
        "  standardized_bag.shape #feature size reduced from 30945 to 1586\n",
        "  train_label_one_hot = LabelBinarizer().fit_transform(dataset.target)\n",
        "\n",
        "  category_feature_words = defaultdict(list)\n",
        "  feature_words = []\n",
        "  for category in range(train_label_one_hot.shape[1]): #4 total categories\n",
        "    mi_scores = mutual_info_classif(standardized_bag, train_label_one_hot[:, category]) #returns an array of the mi scores of each feature for the label at this iteration\n",
        "    sorted_index_array = np.argsort(mi_scores) #returns index of words sorted from least to most by their mi score\n",
        "    sorted_index_array = sorted_index_array[-num_top_features:] #get the index of 10 words that contain the most mutual information with the label\n",
        "    top_10_features = standardized_vectorizer.get_feature_names_out()[sorted_index_array]\n",
        "    category_feature_words[dataset.target_names[category]] = top_10_features #getting the feature names of the top 10 words and store it with the label\n",
        "    feature_words.append(top_10_features) #add the top 10 features to the total selected feature pool\n",
        "  print(\"Most important words per category:\")\n",
        "  pprint(dict(category_feature_words))\n",
        "  return feature_words"
      ]
    },
    {
      "cell_type": "markdown",
      "metadata": {
        "id": "X9QM5Ziz6jmr"
      },
      "source": [
        "# 2. Model Implementation"
      ]
    },
    {
      "cell_type": "markdown",
      "metadata": {
        "id": "gHdhdKb-6m8B"
      },
      "source": [
        "### Logistic Regression"
      ]
    },
    {
      "cell_type": "code",
      "execution_count": null,
      "metadata": {
        "id": "Eop_qzuw5AHk"
      },
      "outputs": [],
      "source": [
        "class LogisticRegression:\n",
        "    '''\n",
        "    Logistic regression for binary classification tasks.\n",
        "    Set hyperparameters on creation.\n",
        "    '''\n",
        "    def __init__(self, add_bias=True, learning_rate=.1, epsilon=1e-4, max_iters=1e4, verbose=False):\n",
        "        self.add_bias = add_bias\n",
        "        self.learning_rate = learning_rate            # also known as Step Size\n",
        "        self.epsilon = epsilon                        # stopping condition: tolerance for gradient norm\n",
        "        self.max_iters = max_iters                    # stopping condition: max iterations of G Descent\n",
        "        self.verbose = verbose\n",
        "\n",
        "    def gradient(self, X, y):\n",
        "        '''\n",
        "        X is a dense np.array with shape (N,D)\n",
        "        y is a np.array with shape (N,)\n",
        "        '''\n",
        "        N, D = X.shape\n",
        "        \n",
        "        pred_y = logistic(np.dot(X, self.w))\n",
        "        d =  pred_y - y\n",
        "        \n",
        "        # divide gradient by N since our cost func = 1/N * CE\n",
        "        grad = np.dot(X.T, d) / N  \n",
        "        return grad\n",
        "\n",
        "    def ce(self, x, y):\n",
        "        # Numerically precise cross-entropy\n",
        "        N, D = x.shape                                       \n",
        "        z = np.dot(x, self.w)\n",
        "        J = np.mean(y * np.log1p(np.exp(-z)) + (1-y) * np.log1p(np.exp(z)))  #log1p calculates log(1+x) to remove floating point inaccuracies \n",
        "        return J\n",
        "\n",
        "    def fit(self, x, y, monitor_CE=False):\n",
        "        if x.ndim == 1:\n",
        "            x = x[:, None] # essentially [x] -> [[x]]\n",
        "\n",
        "        if self.add_bias:\n",
        "            N = x.shape[0]\n",
        "            x = np.column_stack([x, np.ones(N)])   # add column vector 1 for the bias\n",
        "\n",
        "        N, D = x.shape\n",
        "        self.w = np.zeros(D)                      # initialize all weights to 0\n",
        "        g = np.inf                                # start with a large gradient\n",
        "        t = 0\n",
        "\n",
        "        ce_all = np.zeros(int(self.max_iters))\n",
        "\n",
        "        # Gradient Descent\n",
        "        while np.linalg.norm(g) > self.epsilon and t < self.max_iters:\n",
        "            # Stop when the gradient's norm is sufficiently small\n",
        "            g = self.gradient(x, y)\n",
        "            self.w = self.w - self.learning_rate * g\n",
        "\n",
        "            if (monitor_CE):\n",
        "                ce_all[t] = self.ce(x, y)    \n",
        "\n",
        "            t += 1\n",
        "\n",
        "        if self.verbose:\n",
        "            print(f'terminated after {t} iterations, with norm of the gradient equal to {np.linalg.norm(g)}')\n",
        "            # print(f'the weight found: {self.w}')\n",
        "        return ce_all[:t]\n",
        "    \n",
        "    def predict(self, x):\n",
        "        if x.ndim == 1:\n",
        "            x = x[:, None]\n",
        "        Nt = x.shape[0]\n",
        "        if self.add_bias:\n",
        "            x = np.column_stack([x,np.ones(Nt)])\n",
        "        y_pred = logistic(np.dot(x,self.w))\n",
        "        return y_pred\n",
        "\n",
        "    def check_grad(self, X, y):\n",
        "        # Code adapted from the Multinomial_logistic class\n",
        "        if self.add_bias:\n",
        "            N = X.shape[0]\n",
        "            X = np.column_stack([X, np.ones(N)])   # add column vector 1 for the bias\n",
        "    \n",
        "        N = y.shape[0]\n",
        "        D = X.shape[1]\n",
        "\n",
        "        diff = np.zeros(D)\n",
        "\n",
        "        w = self.w.copy()\n",
        "\n",
        "        # For every w_d, compute difference between estimated and analytical gradient\n",
        "        for i in range(D):\n",
        "            epsilon = np.zeros(D)\n",
        "            epsilon[i] = np.random.rand() * 1e-5\n",
        "            self.w = self.w + epsilon\n",
        "            J1 = self.ce(X, y)\n",
        "            self.w = w\n",
        "            self.w = self.w - epsilon\n",
        "            J2 = self.ce(X, y)\n",
        "            self.w = w\n",
        "            numeric_grad = (J1 - J2) / (2 * epsilon[i])\n",
        "            derived_grad = self.gradient(X, y)[i]\n",
        "\n",
        "            diff[i] = np.square(derived_grad - numeric_grad).sum() / \\\n",
        "                            np.square(derived_grad + numeric_grad).sum()\n",
        "\n",
        "        return diff.sum()"
      ]
    },
    {
      "cell_type": "markdown",
      "metadata": {
        "id": "G7UCTvr363xd"
      },
      "source": [
        "### Multi-class Regression"
      ]
    },
    {
      "cell_type": "code",
      "execution_count": null,
      "metadata": {
        "id": "OxDmCfAM65S9"
      },
      "outputs": [],
      "source": [
        "class Multinomial_logistic:\n",
        "    '''\n",
        "    Logistic regression for multiple classification tasks.\n",
        "    Set hyperparameters on fit invocation.\n",
        "\n",
        "    Defines methods for fitting, predicting, \n",
        "    '''\n",
        "    def __init__(self, nFeatures, nClasses):\n",
        "        # Weights is now a matrix DxC\n",
        "        self.W = np.random.rand(nFeatures, nClasses)\n",
        "\n",
        "    def predict(self, X):\n",
        "        # Return a matrix NxC of probabilities\n",
        "        # Use softmax for every class\n",
        "        y_pred = np.exp(np.matmul(X, self.W))\n",
        "        return y_pred / y_pred.sum(axis=1).reshape(X.shape[0], 1)\n",
        "\n",
        "    def grad(self, X, y):\n",
        "        # Return a matrix DxC,\n",
        "        # where columns are gradient vectors for each class\n",
        "        return np.matmul(X.transpose(), self.predict(X) - y) # DxN x NxC\n",
        "\n",
        "    def ce(self, X, y):\n",
        "        return -np.sum(y * np.log(self.predict(X)))\n",
        "\n",
        "\n",
        "    def fit(self, X, y, X_valid=None, y_valid=None, lr=0.001, niter=100, threshold=1e-4, early_stop=False, loss_output=False):\n",
        "        losses_train = np.zeros(niter)\n",
        "        losses_valid = np.zeros(niter)\n",
        "\n",
        "        def smallImprovement(prevLoss, currLoss):\n",
        "            return abs(prevLoss - currLoss) < threshold\n",
        "\n",
        "        for i in range(niter):\n",
        "            self.W = self.W - lr * self.grad(X, y)         # update coefficients W\n",
        "            loss_train = self.ce(X, y)                     # compute new loss\n",
        "            losses_train[i] = loss_train                   # keep track of decrease\n",
        "\n",
        "            if (early_stop and i > 1 and smallImprovement(losses_train[i-1], loss_train)):  \n",
        "                # early stop if cost does not improve by a min threshold\n",
        "                print(f\"Early stop after {i+1} interations. CE = {loss_train}\")\n",
        "                break\n",
        "            \n",
        "            if X_valid is not None and y_valid is not None:\n",
        "                loss_valid = self.ce(X_valid, y_valid)\n",
        "                losses_valid[i] = loss_valid\n",
        "                if (early_stop and i > i and losses_valid[i] > losses_valid[i-1]):\n",
        "                  # breaking condition which indicates overfitting\n",
        "                  print(f\"Early stop since {losses_valid[i]} > {losses_valid[i-1]} after {i+1} iterations as the validation error increases\")\n",
        "                  break\n",
        "                if loss_output:\n",
        "                  print(f\"iter {i}: {loss_train:.3f}; {loss_valid:.3f}\")\n",
        "            else:\n",
        "                if loss_output:\n",
        "                  print(f\"iter {i}: {loss_train:.3f}\")\n",
        "        \n",
        "        t = i + 1\n",
        "        if t < niter:\n",
        "            return losses_train[:t], losses_valid[:t]\n",
        "\n",
        "        return losses_train, losses_valid\n",
        "\n",
        "    def check_grad(self, X, y):\n",
        "        # Small perturbation\n",
        "        N, C = y.shape\n",
        "        D = X.shape[1]\n",
        "\n",
        "        diff = np.zeros((D, C))\n",
        "\n",
        "        W = self.W.copy()\n",
        "\n",
        "        for i in range(D):\n",
        "            for j in range(C):\n",
        "                epsilon = np.zeros((D, C))\n",
        "                epsilon[i, j] = np.random.rand() * 1e-4\n",
        "\n",
        "                self.W = self.W + epsilon\n",
        "                J1 = self.ce(X, y)\n",
        "                self.W = W\n",
        "\n",
        "                self.W = self.W - epsilon\n",
        "                J2 = self.ce(X, y)\n",
        "                self.W = W\n",
        "\n",
        "                numeric_grad = (J1 - J2) / (2 * epsilon[i, j])\n",
        "                derived_grad = self.grad(X, y)[i, j]\n",
        "\n",
        "                diff[i, j] = np.square(derived_grad - numeric_grad).sum() / \\\n",
        "                             np.square(derived_grad + numeric_grad).sum()\n",
        "\n",
        "        return diff.sum()\n"
      ]
    },
    {
      "cell_type": "markdown",
      "metadata": {
        "id": "Ox1PU0T4Eorn"
      },
      "source": [
        "# 3. Running Experiments "
      ]
    },
    {
      "cell_type": "markdown",
      "metadata": {
        "id": "H1N4PbNqgFsT"
      },
      "source": [
        "## Binary Classification on IMDB reviews"
      ]
    },
    {
      "cell_type": "markdown",
      "metadata": {
        "id": "mw6QBQewmJiC"
      },
      "source": [
        "We compute predictions based on the 500 words selected and stored in the `selected_word_indexes` array from task 1.1 (contains the word id's from `imdb.vocab` that are most correlated to the target variable y)."
      ]
    },
    {
      "cell_type": "markdown",
      "metadata": {
        "id": "6oOVFXd3gqC5"
      },
      "source": [
        "### Training the model"
      ]
    },
    {
      "cell_type": "code",
      "execution_count": null,
      "metadata": {
        "id": "cGyUSZeCg048"
      },
      "outputs": [],
      "source": [
        "# Load Test Data\n",
        "imdb_test_file = 'train_labeledBow.feat'\n",
        "imdb_test_X, imdb_test_y = load_svmlight_file(imdb_test_file, multilabel=True)\n",
        "\n",
        "# Test data, subselected features according to Task 1.1 and binary labeling\n",
        "imdb_test_X = (imdb_test_X.tocsc()[:, selected_word_indexes]).tocsr()\n",
        "imdb_test_y = np.where(np.array(imdb_test_y) > 5, 1, 0) # 0 for bad reviews, 1 for good reviews \n",
        "\n",
        "# Prepare all data into dense np.ndarray form\n",
        "if isinstance(imdb_train_X, scipy.sparse.csr.csr_matrix):\n",
        "    imdb_train_X = imdb_train_X.toarray()\n",
        "\n",
        "if isinstance(imdb_test_X, scipy.sparse.csr.csr_matrix):\n",
        "    imdb_test_X = imdb_test_X.toarray()\n",
        "\n",
        "# Fix shapes of our y vectors\n",
        "imdb_train_y = imdb_train_y.squeeze()\n",
        "imdb_test_y = imdb_test_y.squeeze()"
      ]
    },
    {
      "cell_type": "code",
      "execution_count": null,
      "metadata": {
        "colab": {
          "base_uri": "https://localhost:8080/"
        },
        "id": "HxKyFG7eR25T",
        "outputId": "01c85374-6996-482c-fcbd-f61cefbe746d"
      },
      "outputs": [
        {
          "name": "stdout",
          "output_type": "stream",
          "text": [
            "terminated after 10000 iterations, with norm of the gradient equal to 0.0009227681241744485\n",
            "[Trained Logistic Regression in 176.5910 seconds]\n"
          ]
        }
      ],
      "source": [
        "model = LogisticRegression(add_bias=True, learning_rate=.1, epsilon=1e-4, max_iters=1e4, verbose=True)\n",
        "\n",
        "# Use np.arrays, dense, not matrices.\n",
        "tic = time.perf_counter()\n",
        "\n",
        "ce_all = model.fit(np.array(imdb_train_X), imdb_train_y, monitor_CE=True)\n",
        "\n",
        "toc = time.perf_counter()\n",
        "print(f\"[Trained Logistic Regression in {toc - tic:0.4f} seconds]\")"
      ]
    },
    {
      "cell_type": "markdown",
      "metadata": {
        "id": "D6ZJgnTtkH-L"
      },
      "source": [
        "### Checking the Gradient"
      ]
    },
    {
      "cell_type": "code",
      "execution_count": null,
      "metadata": {
        "colab": {
          "base_uri": "https://localhost:8080/"
        },
        "id": "5MVpMkYBxBvA",
        "outputId": "cbac3d33-d228-46c9-cf68-dcb1e1816888"
      },
      "outputs": [
        {
          "name": "stdout",
          "output_type": "stream",
          "text": [
            "Training error achieved: 0.35588909625773174\n"
          ]
        },
        {
          "data": {
            "image/png": "[encoded data removed]",
            "text/plain": [
              "<Figure size 432x288 with 1 Axes>"
            ]
          },
          "metadata": {},
          "output_type": "display_data"
        }
      ],
      "source": [
        "# Plot Training Error decrease\n",
        "print(\"Training error achieved:\", ce_all[-1])\n",
        "plt.plot(range(len(ce_all)), ce_all)\n",
        "plt.ylabel(\"Cross-Entropy cost\")\n",
        "plt.xlabel(\"Iterations\")\n",
        "plt.savefig(\"LR_monitor_CE\", bbox_inches=\"tight\", dpi=300)"
      ]
    },
    {
      "cell_type": "code",
      "execution_count": null,
      "metadata": {
        "colab": {
          "base_uri": "https://localhost:8080/"
        },
        "id": "SCY1LI6nkOcS",
        "outputId": "3af018d4-a96c-4b42-8e65-67ee45f1c203"
      },
      "outputs": [
        {
          "name": "stdout",
          "output_type": "stream",
          "text": [
            "Small perturbation results: 6.06e-07\n"
          ]
        }
      ],
      "source": [
        "# Check gradient\n",
        "small_perturb =  model.check_grad(imdb_train_X, imdb_train_y)\n",
        "print(\"Small perturbation results:\", \"{:.2e}\".format(small_perturb))"
      ]
    },
    {
      "cell_type": "markdown",
      "metadata": {
        "id": "n0U7cvHFkLMV"
      },
      "source": [
        "### Accuracy of Logistic Regression "
      ]
    },
    {
      "cell_type": "code",
      "execution_count": null,
      "metadata": {
        "colab": {
          "base_uri": "https://localhost:8080/"
        },
        "id": "yrsAX0zGxHUq",
        "outputId": "168bc1e3-84d7-49a9-d5bd-1638e089aa51"
      },
      "outputs": [
        {
          "name": "stdout",
          "output_type": "stream",
          "text": [
            "Accuracy on the test set: 84.908%\n"
          ]
        }
      ],
      "source": [
        "pred_y = model.predict(imdb_test_X) # probability estimates\n",
        "pred_y_label = np.where(pred_y>0.5, 1, 0)\n",
        "acc = np.mean(pred_y_label == imdb_test_y)\n",
        "\n",
        "print(\"Accuracy on the test set:\", \"{0:.3f}%\".format(acc*100))"
      ]
    },
    {
      "cell_type": "markdown",
      "metadata": {
        "id": "zNutyuiCZ-xB"
      },
      "source": [
        "### Logistic Regression vs K-Nearest Neighbors - ROC"
      ]
    },
    {
      "cell_type": "code",
      "execution_count": null,
      "metadata": {
        "colab": {
          "base_uri": "https://localhost:8080/"
        },
        "id": "klfkJPO9afX_",
        "outputId": "376655b0-fcdf-4042-a6f8-e237c2afffaa"
      },
      "outputs": [
        {
          "name": "stdout",
          "output_type": "stream",
          "text": [
            "Values of K -> Validation accuracy\n",
            "{1: 0.62608,\n",
            " 2: 0.60928,\n",
            " 3: 0.64992,\n",
            " 4: 0.63472,\n",
            " 5: 0.66368,\n",
            " 6: 0.66192,\n",
            " 7: 0.67184,\n",
            " 8: 0.66656,\n",
            " 9: 0.68064}\n",
            "Best K: 9 with acc: 0.68064\n",
            "[Validated best k for K-NN in 32.6725 seconds]\n"
          ]
        }
      ],
      "source": [
        "# Validation -- Find a suitable value of K for the KNN model\n",
        "from sklearn.model_selection import train_test_split\n",
        "train_knn_X, val_knn_X, train_knn_y, val_knn_y, = train_test_split(imdb_train_X, imdb_train_y, test_size=0.25, random_state=0)\n",
        "\n",
        "print(\"Values of K -> Validation accuracy\")\n",
        "tic = time.perf_counter()\n",
        "BEST_K = get_knn(X_train=train_knn_X, y_train=train_knn_y, X_eval=val_knn_X, y_eval=val_knn_y)\n",
        "toc = time.perf_counter()\n",
        "print(f\"[Validated best k for K-NN in {toc - tic:0.4f} seconds]\")"
      ]
    },
    {
      "cell_type": "code",
      "execution_count": null,
      "metadata": {
        "colab": {
          "base_uri": "https://localhost:8080/"
        },
        "id": "L37tQ8maarmN",
        "outputId": "449733a1-824e-4091-aa6e-55ee09b2e66c"
      },
      "outputs": [
        {
          "name": "stdout",
          "output_type": "stream",
          "text": [
            "[Trained 9-NN in 0.0121 seconds]\n",
            "[Predicted with 9-NN in 19.5205 seconds]\n"
          ]
        }
      ],
      "source": [
        "# Get predictions with 1-NN for comparison\n",
        "knn = KNeighborsClassifier(n_neighbors=BEST_K)\n",
        "tic = time.perf_counter()\n",
        "knn.fit(imdb_train_X, imdb_train_y)\n",
        "toc = time.perf_counter()\n",
        "print(f\"[Trained {BEST_K}-NN in {toc - tic:0.4f} seconds]\")\n",
        "tic = time.perf_counter()\n",
        "y_pred_knn = knn.predict_proba(imdb_test_X) # probability estimates\n",
        "y_pred_knn = y_pred_knn[:,1] # \n",
        "toc = time.perf_counter()\n",
        "\n",
        "print(f\"[Predicted with {BEST_K}-NN in {toc - tic:0.4f} seconds]\")"
      ]
    },
    {
      "cell_type": "code",
      "execution_count": null,
      "metadata": {
        "colab": {
          "base_uri": "https://localhost:8080/",
          "height": 388
        },
        "id": "P9EF6QPp28TK",
        "outputId": "6c751e2f-2c8f-47aa-d451-6193636a8fce"
      },
      "outputs": [
        {
          "data": {
            "image/png": "[encoded data removed]",
            "text/plain": [
              "<Figure size 432x288 with 1 Axes>"
            ]
          },
          "metadata": {},
          "output_type": "display_data"
        },
        {
          "name": "stdout",
          "output_type": "stream",
          "text": [
            "Logistic Regresion AUC score =  0.9238607871999999\n",
            "KNN AUC score =  0.851708736\n"
          ]
        }
      ],
      "source": [
        "# Compute ROC AUC score for Logistic Regression and KNN on IMDB\n",
        "from sklearn.metrics import roc_auc_score\n",
        "\n",
        "lr_auc_score = roc_auc_score(imdb_test_y, pred_y)\n",
        "knn_auc_score = roc_auc_score(imdb_test_y, y_pred_knn)\n",
        "\n",
        "import matplotlib.pyplot as plt\n",
        "fig = plt.figure()\n",
        "ax = fig.add_axes([0,0,1,1])\n",
        "models = ['LogReg', 'KNN']\n",
        "AUROC = [lr_auc_score, knn_auc_score]\n",
        "ax.bar(models, AUROC)\n",
        "ax.set_title(\"Area Under the ROC curve\")\n",
        "plt.show()\n",
        "\n",
        "\n",
        "print(\"Logistic Regresion AUC score = \",lr_auc_score)   # 0.92\n",
        "print(\"KNN AUC score = \", knn_auc_score)"
      ]
    },
    {
      "cell_type": "markdown",
      "metadata": {
        "id": "bH5cKxxJ8Vi-"
      },
      "source": [
        "#### Plot ROC Curves"
      ]
    },
    {
      "cell_type": "code",
      "execution_count": null,
      "metadata": {
        "colab": {
          "base_uri": "https://localhost:8080/",
          "height": 265
        },
        "id": "tKMCsUhZ8Xe2",
        "outputId": "5fa51363-b5ea-4708-c59f-853808a08d2d"
      },
      "outputs": [
        {
          "data": {
            "image/png": "[encoded data removed]",
            "text/plain": [
              "<Figure size 432x288 with 1 Axes>"
            ]
          },
          "metadata": {},
          "output_type": "display_data"
        }
      ],
      "source": [
        "from sklearn import metrics\n",
        "\n",
        "#set up plotting area\n",
        "plt.figure(0).clf()\n",
        "\n",
        "#fit logistic regression model and plot ROC curve\n",
        "y_pred_lr = pred_y # Logistic regression predictions\n",
        "fpr, tpr, _ = metrics.roc_curve(imdb_test_y, y_pred_lr) # note shape\n",
        "auc = round(metrics.roc_auc_score(imdb_test_y, y_pred_lr), 4)\n",
        "plt.plot(fpr,tpr,label=\"Logistic Regression, AUC=\"+str(auc))\n",
        "\n",
        "#fit KNN model and plot ROC curve\n",
        "\n",
        "fpr, tpr, _ = metrics.roc_curve(imdb_test_y, y_pred_knn)\n",
        "auc = round(metrics.roc_auc_score(imdb_test_y, y_pred_knn), 4)\n",
        "plt.plot(fpr,tpr,label=\"9-NN, AUC=\"+str(auc))\n",
        "\n",
        "#add legend\n",
        "plt.legend()\n",
        "plt.savefig(\"ROC_curves\", bbox_inches=\"tight\", dpi=300)"
      ]
    },
    {
      "cell_type": "markdown",
      "metadata": {
        "id": "ECqgx1JPEeXo"
      },
      "source": [
        "#### Accuracy and ROC as a function of Data set size"
      ]
    },
    {
      "cell_type": "code",
      "execution_count": null,
      "metadata": {
        "colab": {
          "base_uri": "https://localhost:8080/"
        },
        "id": "e3szNJx8e5vs",
        "outputId": "00ba3273-eafa-4e75-ae86-c6cc2411a52f"
      },
      "outputs": [
        {
          "name": "stdout",
          "output_type": "stream",
          "text": [
            "--Models with N = 5000 observations\n",
            "Done fitting LR\n",
            "Done fitting KNN\n",
            "--Models with N = 10000 observations\n",
            "Done fitting LR\n",
            "Done fitting KNN\n",
            "--Models with N = 15000 observations\n",
            "Done fitting LR\n",
            "Done fitting KNN\n",
            "--Models with N = 20000 observations\n",
            "Done fitting LR\n",
            "Done fitting KNN\n",
            "--Models with N = 25000 observations\n"
          ]
        }
      ],
      "source": [
        "accuracies_LR = []\n",
        "accuracies_KNN = []\n",
        "auroc_LR = []\n",
        "auroc_KNN = []\n",
        "\n",
        "SIZES =  [0.2, 0.4, 0.6, 0.8, 1]\n",
        "N = imdb_train_X.shape[0]\n",
        "\n",
        "# For different sizes of training set, record the accuracy on the held out test set\n",
        "for train_size in SIZES:\n",
        "    test_size = 1.0 - train_size\n",
        "    print(f\"--Models with N = {int(N*train_size)} observations\")\n",
        "    \n",
        "    if train_size == 1.0:\n",
        "        trainX = imdb_train_X\n",
        "        trainY = imdb_train_y\n",
        "    else:\n",
        "        # Sub sample the training set\n",
        "        trainX, _, trainY, _ = train_test_split(imdb_train_X, imdb_train_y, test_size=test_size, random_state=0)\n",
        "\n",
        "    # Logistic regression\n",
        "    LR_model = LogisticRegression(add_bias=True, learning_rate=.1, epsilon=1e-4, max_iters=1e4, verbose=False)\n",
        "    LR_model.fit(trainX, trainY)\n",
        "    lr_predY = LR_model.predict(imdb_test_X)\n",
        "    lr_predY_label = np.where(lr_predY > 0.5, 1, 0)\n",
        "    lr_accuracy = accuracy_score(lr_predY_label, imdb_test_y)\n",
        "    lr_auroc = metrics.roc_auc_score(imdb_test_y, lr_predY)\n",
        "    print(\"Done fitting LR\")\n",
        "    accuracies_LR.append(lr_accuracy)\n",
        "    auroc_LR.append(lr_auroc)\n",
        "\n",
        "    # KNN\n",
        "    KNN_model = KNeighborsClassifier(n_neighbors=BEST_K)\n",
        "    KNN_model.fit(trainX, trainY)\n",
        "    knn_predY = (KNN_model.predict_proba(imdb_test_X))[:, 1]    # probability y=1\n",
        "    knn_predY_label = np.where(knn_predY > 0.5, 1, 0)\n",
        "    knn_accuracy = accuracy_score(knn_predY_label, imdb_test_y)\n",
        "    knn_auroc = metrics.roc_auc_score(imdb_test_y, knn_predY)\n",
        "    print(\"Done fitting KNN\")\n",
        "    accuracies_KNN.append(knn_accuracy)\n",
        "    auroc_KNN.append(knn_auroc)\n"
      ]
    },
    {
      "cell_type": "code",
      "execution_count": null,
      "metadata": {
        "id": "xkBmZrrigHDg"
      },
      "outputs": [],
      "source": [
        "auroc_LR"
      ]
    },
    {
      "cell_type": "code",
      "execution_count": null,
      "metadata": {
        "id": "N3cfORieruU-"
      },
      "outputs": [],
      "source": [
        "print(\"Now plotting Accuracy as a function of training set size\")\n",
        "\n",
        "# Plot Accuracy as function of training set size\n",
        "plt.clf()\n",
        "\n",
        "labels = ['20%', '40%', '60%', '80%', '100%']\n",
        "x_axis = np.arange(len(labels))\n",
        "bar_width = 0.30\n",
        "\n",
        "fig, ax = plt.subplots()\n",
        "plt.figure(figsize=(8,8))\n",
        "lr_bars = ax.bar(x_axis - bar_width/2, accuracies_LR, bar_width, label='LogReg')\n",
        "knn_bars = ax.bar(x_axis + bar_width/2, accuracies_KNN, bar_width, label='KNN')\n",
        "\n",
        "# Text for labels, title and custom x-axis labels\n",
        "\n",
        "ax.set_ylabel('Accuracy')\n",
        "ax.set_title('Accuracy by model and data size')\n",
        "ax.set_xticks(x_axis)\n",
        "ax.set_xticklabels(labels)\n",
        "ax.legend()\n",
        "\n",
        "def autolabel(rects):\n",
        "    \"\"\"Attach a text label above each bar in *rects*, displaying its height.\"\"\"\n",
        "    for rect in rects:\n",
        "        height = round(rect.get_height(),3)\n",
        "        ax.annotate('{}'.format(height),\n",
        "                    xy=(rect.get_x() + rect.get_width() / 2, height),\n",
        "                    xytext=(0, 3),  # 3 points vertical offset\n",
        "                    textcoords=\"offset points\",\n",
        "                    ha='center', va='bottom')\n",
        "\n",
        "autolabel(lr_bars)\n",
        "autolabel(knn_bars)\n",
        "\n",
        "fig.tight_layout()\n",
        "plt.savefig(\"Accuracy_by_data_size_binary\", bbox_inches=\"tight\", dpi=300)\n",
        "plt.show()"
      ]
    },
    {
      "cell_type": "code",
      "execution_count": null,
      "metadata": {
        "id": "ISbX7E4pnbdY"
      },
      "outputs": [],
      "source": [
        "print(\"Now plotting AUROC score as a function of training set size\")\n",
        "\n",
        "# Plot AUROC as function of training set size\n",
        "plt.clf()\n",
        "\n",
        "labels = ['20%', '40%', '60%', '80%', '100%']\n",
        "x_axis = np.arange(len(labels))\n",
        "bar_width = 0.35\n",
        "\n",
        "fig, ax = plt.subplots()\n",
        "plt.figure(figsize=(8,8))\n",
        "lr_bars = ax.bar(x_axis - bar_width/2, auroc_LR, bar_width, label='LogReg')\n",
        "knn_bars = ax.bar(x_axis + bar_width/2, auroc_KNN, bar_width, label='KNN')\n",
        "\n",
        "# Text for labels, title and custom x-axis labels\n",
        "\n",
        "ax.set_ylabel('AUROC')\n",
        "ax.set_title('Scores by model and data size')\n",
        "ax.set_xticks(x_axis)\n",
        "ax.set_xticklabels(labels)\n",
        "ax.legend()\n",
        "\n",
        "def autolabel(rects):\n",
        "    \"\"\"Attach a text label above each bar in *rects*, displaying its height.\"\"\"\n",
        "    for rect in rects:\n",
        "        height = round(rect.get_height(),3)\n",
        "        ax.annotate('{}'.format(height),\n",
        "                    xy=(rect.get_x() + rect.get_width() / 2, height),\n",
        "                    xytext=(0, 3),  # 3 points vertical offset\n",
        "                    textcoords=\"offset points\",\n",
        "                    ha='center', va='bottom')\n",
        "\n",
        "autolabel(lr_bars)\n",
        "autolabel(knn_bars)\n",
        "\n",
        "fig.tight_layout()\n",
        "fig.savefig(\"AUROC_by_data_size\", bbox_inches=\"tight\", dpi=300)\n"
      ]
    },
    {
      "cell_type": "markdown",
      "metadata": {
        "id": "hhpOxADLR0xk"
      },
      "source": [
        "### Most important words by coefficient"
      ]
    },
    {
      "cell_type": "code",
      "execution_count": null,
      "metadata": {
        "colab": {
          "base_uri": "https://localhost:8080/"
        },
        "id": "Oll1fkNM5R-l",
        "outputId": "3378bf18-dcfd-4708-ce5e-7dc71df7cf98"
      },
      "outputs": [
        {
          "name": "stdout",
          "output_type": "stream",
          "text": [
            "terminated after 10000 iterations, with norm of the gradient equal to 0.0009204703018967302\n"
          ]
        },
        {
          "data": {
            "text/plain": [
              "(250,)"
            ]
          },
          "execution_count": 43,
          "metadata": {},
          "output_type": "execute_result"
        }
      ],
      "source": [
        "model_no_bias = LogisticRegression(add_bias=False, learning_rate=.1, epsilon=1e-4, max_iters=1e4, verbose=True)\n",
        "model_no_bias.fit(imdb_train_X, imdb_train_y)\n",
        "\n",
        "word_weights =  model_no_bias.w\n",
        "word_weights.shape"
      ]
    },
    {
      "cell_type": "code",
      "execution_count": null,
      "metadata": {
        "id": "p6_aJ6s_62sP"
      },
      "outputs": [],
      "source": [
        "# Get indexes of strongest feature weights\n",
        "sorted_word_weights = np.argsort(word_weights)\n",
        "top_word_i_positive = sorted_word_weights[-10:]    # indexes\n",
        "top_word_i_negative = sorted_word_weights[:10]    # indexes"
      ]
    },
    {
      "cell_type": "code",
      "execution_count": null,
      "metadata": {
        "colab": {
          "base_uri": "https://localhost:8080/"
        },
        "id": "o1QDsIdkPxNZ",
        "outputId": "aab84af2-34a3-41fe-9bce-01b087775eb7"
      },
      "outputs": [
        {
          "data": {
            "text/html": [
              "\n",
              "  <div id=\"df-1ad8caf9-10ba-492e-a046-8b3984e1c51b\">\n",
              "    <div class=\"colab-df-container\">\n",
              "      <div>\n",
              "<style scoped>\n",
              "    .dataframe tbody tr th:only-of-type {\n",
              "        vertical-align: middle;\n",
              "    }\n",
              "\n",
              "    .dataframe tbody tr th {\n",
              "        vertical-align: top;\n",
              "    }\n",
              "\n",
              "    .dataframe thead th {\n",
              "        text-align: right;\n",
              "    }\n",
              "</style>\n",
              "<table border=\"1\" class=\"dataframe\">\n",
              "  <thead>\n",
              "    <tr style=\"text-align: right;\">\n",
              "      <th></th>\n",
              "      <th>index</th>\n",
              "      <th>word</th>\n",
              "      <th>score</th>\n",
              "      <th>sentiment</th>\n",
              "    </tr>\n",
              "  </thead>\n",
              "  <tbody>\n",
              "    <tr>\n",
              "      <th>230</th>\n",
              "      <td>922</td>\n",
              "      <td>unique</td>\n",
              "      <td>5.976705</td>\n",
              "      <td>True</td>\n",
              "    </tr>\n",
              "    <tr>\n",
              "      <th>238</th>\n",
              "      <td>1251</td>\n",
              "      <td>beautifully</td>\n",
              "      <td>5.831240</td>\n",
              "      <td>True</td>\n",
              "    </tr>\n",
              "    <tr>\n",
              "      <th>134</th>\n",
              "      <td>748</td>\n",
              "      <td>fantastic</td>\n",
              "      <td>9.872631</td>\n",
              "      <td>True</td>\n",
              "    </tr>\n",
              "    <tr>\n",
              "      <th>67</th>\n",
              "      <td>493</td>\n",
              "      <td>favorite</td>\n",
              "      <td>14.767837</td>\n",
              "      <td>True</td>\n",
              "    </tr>\n",
              "    <tr>\n",
              "      <th>34</th>\n",
              "      <td>369</td>\n",
              "      <td>wonderful</td>\n",
              "      <td>22.097996</td>\n",
              "      <td>True</td>\n",
              "    </tr>\n",
              "    <tr>\n",
              "      <th>103</th>\n",
              "      <td>529</td>\n",
              "      <td>highly</td>\n",
              "      <td>11.460094</td>\n",
              "      <td>True</td>\n",
              "    </tr>\n",
              "    <tr>\n",
              "      <th>51</th>\n",
              "      <td>459</td>\n",
              "      <td>amazing</td>\n",
              "      <td>17.759351</td>\n",
              "      <td>True</td>\n",
              "    </tr>\n",
              "    <tr>\n",
              "      <th>58</th>\n",
              "      <td>392</td>\n",
              "      <td>perfect</td>\n",
              "      <td>16.627256</td>\n",
              "      <td>True</td>\n",
              "    </tr>\n",
              "    <tr>\n",
              "      <th>144</th>\n",
              "      <td>870</td>\n",
              "      <td>superb</td>\n",
              "      <td>9.252824</td>\n",
              "      <td>True</td>\n",
              "    </tr>\n",
              "    <tr>\n",
              "      <th>30</th>\n",
              "      <td>309</td>\n",
              "      <td>excellent</td>\n",
              "      <td>23.432477</td>\n",
              "      <td>True</td>\n",
              "    </tr>\n",
              "  </tbody>\n",
              "</table>\n",
              "</div>\n",
              "      <button class=\"colab-df-convert\" onclick=\"convertToInteractive('df-1ad8caf9-10ba-492e-a046-8b3984e1c51b')\"\n",
              "              title=\"Convert this dataframe to an interactive table.\"\n",
              "              style=\"display:none;\">\n",
              "        \n",
              "  <svg xmlns=\"http://www.w3.org/2000/svg\" height=\"24px\"viewBox=\"0 0 24 24\"\n",
              "       width=\"24px\">\n",
              "    <path d=\"M0 0h24v24H0V0z\" fill=\"none\"/>\n",
              "    <path d=\"M18.56 5.44l.94 2.06.94-2.06 2.06-.94-2.06-.94-.94-2.06-.94 2.06-2.06.94zm-11 1L8.5 8.5l.94-2.06 2.06-.94-2.06-.94L8.5 2.5l-.94 2.06-2.06.94zm10 10l.94 2.06.94-2.06 2.06-.94-2.06-.94-.94-2.06-.94 2.06-2.06.94z\"/><path d=\"M17.41 7.96l-1.37-1.37c-.4-.4-.92-.59-1.43-.59-.52 0-1.04.2-1.43.59L10.3 9.45l-7.72 7.72c-.78.78-.78 2.05 0 2.83L4 21.41c.39.39.9.59 1.41.59.51 0 1.02-.2 1.41-.59l7.78-7.78 2.81-2.81c.8-.78.8-2.07 0-2.86zM5.41 20L4 18.59l7.72-7.72 1.47 1.35L5.41 20z\"/>\n",
              "  </svg>\n",
              "      </button>\n",
              "      \n",
              "  <style>\n",
              "    .colab-df-container {\n",
              "      display:flex;\n",
              "      flex-wrap:wrap;\n",
              "      gap: 12px;\n",
              "    }\n",
              "\n",
              "    .colab-df-convert {\n",
              "      background-color: #E8F0FE;\n",
              "      border: none;\n",
              "      border-radius: 50%;\n",
              "      cursor: pointer;\n",
              "      display: none;\n",
              "      fill: #1967D2;\n",
              "      height: 32px;\n",
              "      padding: 0 0 0 0;\n",
              "      width: 32px;\n",
              "    }\n",
              "\n",
              "    .colab-df-convert:hover {\n",
              "      background-color: #E2EBFA;\n",
              "      box-shadow: 0px 1px 2px rgba(60, 64, 67, 0.3), 0px 1px 3px 1px rgba(60, 64, 67, 0.15);\n",
              "      fill: #174EA6;\n",
              "    }\n",
              "\n",
              "    [theme=dark] .colab-df-convert {\n",
              "      background-color: #3B4455;\n",
              "      fill: #D2E3FC;\n",
              "    }\n",
              "\n",
              "    [theme=dark] .colab-df-convert:hover {\n",
              "      background-color: #434B5C;\n",
              "      box-shadow: 0px 1px 3px 1px rgba(0, 0, 0, 0.15);\n",
              "      filter: drop-shadow(0px 1px 2px rgba(0, 0, 0, 0.3));\n",
              "      fill: #FFFFFF;\n",
              "    }\n",
              "  </style>\n",
              "\n",
              "      <script>\n",
              "        const buttonEl =\n",
              "          document.querySelector('#df-1ad8caf9-10ba-492e-a046-8b3984e1c51b button.colab-df-convert');\n",
              "        buttonEl.style.display =\n",
              "          google.colab.kernel.accessAllowed ? 'block' : 'none';\n",
              "\n",
              "        async function convertToInteractive(key) {\n",
              "          const element = document.querySelector('#df-1ad8caf9-10ba-492e-a046-8b3984e1c51b');\n",
              "          const dataTable =\n",
              "            await google.colab.kernel.invokeFunction('convertToInteractive',\n",
              "                                                     [key], {});\n",
              "          if (!dataTable) return;\n",
              "\n",
              "          const docLinkHtml = 'Like what you see? Visit the ' +\n",
              "            '<a target=\"_blank\" href=https://colab.research.google.com/notebooks/data_table.ipynb>data table notebook</a>'\n",
              "            + ' to learn more about interactive tables.';\n",
              "          element.innerHTML = '';\n",
              "          dataTable['output_type'] = 'display_data';\n",
              "          await google.colab.output.renderOutput(dataTable, element);\n",
              "          const docLink = document.createElement('div');\n",
              "          docLink.innerHTML = docLinkHtml;\n",
              "          element.appendChild(docLink);\n",
              "        }\n",
              "      </script>\n",
              "    </div>\n",
              "  </div>\n",
              "  "
            ],
            "text/plain": [
              "     index         word      score  sentiment\n",
              "230    922       unique   5.976705       True\n",
              "238   1251  beautifully   5.831240       True\n",
              "134    748    fantastic   9.872631       True\n",
              "67     493     favorite  14.767837       True\n",
              "34     369    wonderful  22.097996       True\n",
              "103    529       highly  11.460094       True\n",
              "51     459      amazing  17.759351       True\n",
              "58     392      perfect  16.627256       True\n",
              "144    870       superb   9.252824       True\n",
              "30     309    excellent  23.432477       True"
            ]
          },
          "execution_count": 45,
          "metadata": {},
          "output_type": "execute_result"
        }
      ],
      "source": [
        "words_scores_df.iloc[top_word_i_positive]"
      ]
    },
    {
      "cell_type": "code",
      "execution_count": null,
      "metadata": {
        "colab": {
          "base_uri": "https://localhost:8080/"
        },
        "id": "mCc4wYqLP49o",
        "outputId": "2a20873f-0e9b-4e32-8306-0b941504cb2b"
      },
      "outputs": [
        {
          "data": {
            "text/html": [
              "\n",
              "  <div id=\"df-41500f01-74ec-4a3a-8b7e-491a96dabaed\">\n",
              "    <div class=\"colab-df-container\">\n",
              "      <div>\n",
              "<style scoped>\n",
              "    .dataframe tbody tr th:only-of-type {\n",
              "        vertical-align: middle;\n",
              "    }\n",
              "\n",
              "    .dataframe tbody tr th {\n",
              "        vertical-align: top;\n",
              "    }\n",
              "\n",
              "    .dataframe thead th {\n",
              "        text-align: right;\n",
              "    }\n",
              "</style>\n",
              "<table border=\"1\" class=\"dataframe\">\n",
              "  <thead>\n",
              "    <tr style=\"text-align: right;\">\n",
              "      <th></th>\n",
              "      <th>index</th>\n",
              "      <th>word</th>\n",
              "      <th>score</th>\n",
              "      <th>sentiment</th>\n",
              "    </tr>\n",
              "  </thead>\n",
              "  <tbody>\n",
              "    <tr>\n",
              "      <th>84</th>\n",
              "      <td>427</td>\n",
              "      <td>waste</td>\n",
              "      <td>-13.211996</td>\n",
              "      <td>False</td>\n",
              "    </tr>\n",
              "    <tr>\n",
              "      <th>35</th>\n",
              "      <td>240</td>\n",
              "      <td>worst</td>\n",
              "      <td>-21.952532</td>\n",
              "      <td>False</td>\n",
              "    </tr>\n",
              "    <tr>\n",
              "      <th>191</th>\n",
              "      <td>856</td>\n",
              "      <td>poorly</td>\n",
              "      <td>-7.134098</td>\n",
              "      <td>False</td>\n",
              "    </tr>\n",
              "    <tr>\n",
              "      <th>72</th>\n",
              "      <td>368</td>\n",
              "      <td>awful</td>\n",
              "      <td>-14.154355</td>\n",
              "      <td>False</td>\n",
              "    </tr>\n",
              "    <tr>\n",
              "      <th>162</th>\n",
              "      <td>734</td>\n",
              "      <td>dull</td>\n",
              "      <td>-8.500202</td>\n",
              "      <td>False</td>\n",
              "    </tr>\n",
              "    <tr>\n",
              "      <th>242</th>\n",
              "      <td>906</td>\n",
              "      <td>mess</td>\n",
              "      <td>-5.780644</td>\n",
              "      <td>False</td>\n",
              "    </tr>\n",
              "    <tr>\n",
              "      <th>164</th>\n",
              "      <td>598</td>\n",
              "      <td>annoying</td>\n",
              "      <td>-8.468580</td>\n",
              "      <td>False</td>\n",
              "    </tr>\n",
              "    <tr>\n",
              "      <th>148</th>\n",
              "      <td>503</td>\n",
              "      <td>horrible</td>\n",
              "      <td>-9.126333</td>\n",
              "      <td>False</td>\n",
              "    </tr>\n",
              "    <tr>\n",
              "      <th>68</th>\n",
              "      <td>344</td>\n",
              "      <td>boring</td>\n",
              "      <td>-14.647670</td>\n",
              "      <td>False</td>\n",
              "    </tr>\n",
              "    <tr>\n",
              "      <th>210</th>\n",
              "      <td>813</td>\n",
              "      <td>lame</td>\n",
              "      <td>-6.691380</td>\n",
              "      <td>False</td>\n",
              "    </tr>\n",
              "  </tbody>\n",
              "</table>\n",
              "</div>\n",
              "      <button class=\"colab-df-convert\" onclick=\"convertToInteractive('df-41500f01-74ec-4a3a-8b7e-491a96dabaed')\"\n",
              "              title=\"Convert this dataframe to an interactive table.\"\n",
              "              style=\"display:none;\">\n",
              "        \n",
              "  <svg xmlns=\"http://www.w3.org/2000/svg\" height=\"24px\"viewBox=\"0 0 24 24\"\n",
              "       width=\"24px\">\n",
              "    <path d=\"M0 0h24v24H0V0z\" fill=\"none\"/>\n",
              "    <path d=\"M18.56 5.44l.94 2.06.94-2.06 2.06-.94-2.06-.94-.94-2.06-.94 2.06-2.06.94zm-11 1L8.5 8.5l.94-2.06 2.06-.94-2.06-.94L8.5 2.5l-.94 2.06-2.06.94zm10 10l.94 2.06.94-2.06 2.06-.94-2.06-.94-.94-2.06-.94 2.06-2.06.94z\"/><path d=\"M17.41 7.96l-1.37-1.37c-.4-.4-.92-.59-1.43-.59-.52 0-1.04.2-1.43.59L10.3 9.45l-7.72 7.72c-.78.78-.78 2.05 0 2.83L4 21.41c.39.39.9.59 1.41.59.51 0 1.02-.2 1.41-.59l7.78-7.78 2.81-2.81c.8-.78.8-2.07 0-2.86zM5.41 20L4 18.59l7.72-7.72 1.47 1.35L5.41 20z\"/>\n",
              "  </svg>\n",
              "      </button>\n",
              "      \n",
              "  <style>\n",
              "    .colab-df-container {\n",
              "      display:flex;\n",
              "      flex-wrap:wrap;\n",
              "      gap: 12px;\n",
              "    }\n",
              "\n",
              "    .colab-df-convert {\n",
              "      background-color: #E8F0FE;\n",
              "      border: none;\n",
              "      border-radius: 50%;\n",
              "      cursor: pointer;\n",
              "      display: none;\n",
              "      fill: #1967D2;\n",
              "      height: 32px;\n",
              "      padding: 0 0 0 0;\n",
              "      width: 32px;\n",
              "    }\n",
              "\n",
              "    .colab-df-convert:hover {\n",
              "      background-color: #E2EBFA;\n",
              "      box-shadow: 0px 1px 2px rgba(60, 64, 67, 0.3), 0px 1px 3px 1px rgba(60, 64, 67, 0.15);\n",
              "      fill: #174EA6;\n",
              "    }\n",
              "\n",
              "    [theme=dark] .colab-df-convert {\n",
              "      background-color: #3B4455;\n",
              "      fill: #D2E3FC;\n",
              "    }\n",
              "\n",
              "    [theme=dark] .colab-df-convert:hover {\n",
              "      background-color: #434B5C;\n",
              "      box-shadow: 0px 1px 3px 1px rgba(0, 0, 0, 0.15);\n",
              "      filter: drop-shadow(0px 1px 2px rgba(0, 0, 0, 0.3));\n",
              "      fill: #FFFFFF;\n",
              "    }\n",
              "  </style>\n",
              "\n",
              "      <script>\n",
              "        const buttonEl =\n",
              "          document.querySelector('#df-41500f01-74ec-4a3a-8b7e-491a96dabaed button.colab-df-convert');\n",
              "        buttonEl.style.display =\n",
              "          google.colab.kernel.accessAllowed ? 'block' : 'none';\n",
              "\n",
              "        async function convertToInteractive(key) {\n",
              "          const element = document.querySelector('#df-41500f01-74ec-4a3a-8b7e-491a96dabaed');\n",
              "          const dataTable =\n",
              "            await google.colab.kernel.invokeFunction('convertToInteractive',\n",
              "                                                     [key], {});\n",
              "          if (!dataTable) return;\n",
              "\n",
              "          const docLinkHtml = 'Like what you see? Visit the ' +\n",
              "            '<a target=\"_blank\" href=https://colab.research.google.com/notebooks/data_table.ipynb>data table notebook</a>'\n",
              "            + ' to learn more about interactive tables.';\n",
              "          element.innerHTML = '';\n",
              "          dataTable['output_type'] = 'display_data';\n",
              "          await google.colab.output.renderOutput(dataTable, element);\n",
              "          const docLink = document.createElement('div');\n",
              "          docLink.innerHTML = docLinkHtml;\n",
              "          element.appendChild(docLink);\n",
              "        }\n",
              "      </script>\n",
              "    </div>\n",
              "  </div>\n",
              "  "
            ],
            "text/plain": [
              "     index      word      score  sentiment\n",
              "84     427     waste -13.211996      False\n",
              "35     240     worst -21.952532      False\n",
              "191    856    poorly  -7.134098      False\n",
              "72     368     awful -14.154355      False\n",
              "162    734      dull  -8.500202      False\n",
              "242    906      mess  -5.780644      False\n",
              "164    598  annoying  -8.468580      False\n",
              "148    503  horrible  -9.126333      False\n",
              "68     344    boring -14.647670      False\n",
              "210    813      lame  -6.691380      False"
            ]
          },
          "execution_count": 46,
          "metadata": {},
          "output_type": "execute_result"
        }
      ],
      "source": [
        "words_scores_df.iloc[top_word_i_negative]"
      ]
    },
    {
      "cell_type": "code",
      "execution_count": null,
      "metadata": {
        "colab": {
          "base_uri": "https://localhost:8080/"
        },
        "id": "Jx2IQKVoQpuJ",
        "outputId": "70fe346a-33a3-423d-da17-65d258cebf88"
      },
      "outputs": [
        {
          "data": {
            "text/plain": [
              "<Figure size 432x288 with 0 Axes>"
            ]
          },
          "metadata": {},
          "output_type": "display_data"
        },
        {
          "data": {
            "image/png": "[encoded data removed]",
            "text/plain": [
              "<Figure size 432x288 with 1 Axes>"
            ]
          },
          "metadata": {},
          "output_type": "display_data"
        },
        {
          "data": {
            "text/plain": [
              "<Figure size 432x288 with 0 Axes>"
            ]
          },
          "metadata": {},
          "output_type": "display_data"
        },
        {
          "data": {
            "image/png": "[encoded data removed]",
            "text/plain": [
              "<Figure size 432x288 with 1 Axes>"
            ]
          },
          "metadata": {},
          "output_type": "display_data"
        }
      ],
      "source": [
        "plot_word_scores(words_scores_df.iloc[top_word_i_positive].sort_values('score', ascending=False), \"Most positive weights\", \"weight\")\n",
        "\n",
        "plot_word_scores(words_scores_df.iloc[top_word_i_negative].sort_values('score'), \"Most negative weights\", \"weight\")"
      ]
    },
    {
      "cell_type": "markdown",
      "metadata": {
        "id": "HqyH3xLicrYw"
      },
      "source": [
        "## Multiclass Classification on 20 News Groups"
      ]
    },
    {
      "cell_type": "code",
      "execution_count": null,
      "metadata": {
        "colab": {
          "base_uri": "https://localhost:8080/"
        },
        "id": "5pelOwS3pZOF",
        "outputId": "6efec6a5-1f9a-414f-bd20-4bb2bed6808a"
      },
      "outputs": [
        {
          "name": "stdout",
          "output_type": "stream",
          "text": [
            "Most important words per category:\n",
            "{'comp.graphics': array(['program', 'god', '3d', 'image', 'his', 'file', 'files', 'who',\n",
            "       'he', 'graphics'], dtype=object),\n",
            " 'rec.sport.hockey': array(['teams', 'league', 'games', 'players', 'play', 'nhl', 'season',\n",
            "       'hockey', 'game', 'team'], dtype=object),\n",
            " 'sci.med': array(['surrender', 'intellect', 'dsl', 'cadre', 'shameful', 'n3jxp',\n",
            "       'chastity', 'geb', 'gordon', 'banks'], dtype=object),\n",
            " 'soc.religion.christian': array(['faith', 'not', 'we', 'christian', 'church', 'christians', 'bible',\n",
            "       'christ', 'jesus', 'god'], dtype=object)}\n"
          ]
        }
      ],
      "source": [
        "#select most relevant features\n",
        "feature_words = getBagWords(train_dataset, 10)\n",
        "feature_words = np.array(feature_words).flatten()"
      ]
    },
    {
      "cell_type": "code",
      "execution_count": null,
      "metadata": {
        "id": "aQfbPIcvci7A"
      },
      "outputs": [],
      "source": [
        "from sklearn import model_selection\n",
        "feature_words = np.unique(feature_words) # must have unique features. for example, we had 'god' occuring in two categories \n",
        "feature_vectorizer = CountVectorizer(vocabulary=feature_words)\n",
        "X_train_bag_of_words = feature_vectorizer.fit_transform(train_dataset.data) #sparse matrix of the 39 selected features\n",
        "X_train_bag_of_words.shape"
      ]
    },
    {
      "cell_type": "code",
      "execution_count": null,
      "metadata": {
        "id": "p50eT0ydcrTm"
      },
      "outputs": [],
      "source": [
        "#one-hot encode y_train\n",
        "train_label_one_hot = LabelBinarizer().fit_transform(train_dataset.target)\n",
        "#vectorize X_train\n",
        "X_train_n = X_train_bag_of_words\n",
        "X_train_n = X_train_n.toarray()\n",
        "y_train_n = train_label_one_hot\n",
        "\n",
        "# split train data set into training and validation\n",
        "X_train_news, X_valid_news, y_train_news, y_valid_news = model_selection.train_test_split(X_train_n, y_train_n, test_size = 0.20, random_state=1, shuffle=True)\n",
        "print(X_train_news.shape, X_valid_news.shape, y_train_news.shape, y_valid_news.shape)"
      ]
    },
    {
      "cell_type": "markdown",
      "metadata": {
        "id": "4KquCb-hwomy"
      },
      "source": [
        "###Training the model"
      ]
    },
    {
      "cell_type": "code",
      "execution_count": null,
      "metadata": {
        "id": "Y6znzrSMiJVY"
      },
      "outputs": [],
      "source": [
        "D = X_train_n.shape[1] #number of features\n",
        "C = y_train_n.shape[1] #number of classes\n",
        "D,C"
      ]
    },
    {
      "cell_type": "code",
      "execution_count": null,
      "metadata": {
        "id": "7xwX2CFzcrRA"
      },
      "outputs": [],
      "source": [
        "multiClass_model = Multinomial_logistic(D,C) \n",
        "#X_train_news = np.array(X_train_news, dtype = np.float128) #this solves the nan issue caused by float64\n",
        "X_train_n = np.array(X_train_n, dtype = np.float128)\n",
        "multiClass_model.W = np.array(multiClass_model.W, dtype = np.float128)"
      ]
    },
    {
      "cell_type": "code",
      "execution_count": null,
      "metadata": {
        "colab": {
          "background_save": true
        },
        "id": "zngZRuNscrN0",
        "outputId": "380f3382-8a7a-4115-e9fc-5a8862ae456a"
      },
      "outputs": [
        {
          "data": {
            "image/png": "[encoded data removed]",
            "text/plain": [
              "<Figure size 432x288 with 1 Axes>"
            ]
          },
          "metadata": {},
          "output_type": "display_data"
        }
      ],
      "source": [
        "ce_train, ce_valid = multiClass_model.fit(X_train_news, y_train_news, X_valid_news, y_valid_news, niter=10000, early_stop=True)\n",
        "plt.clf()\n",
        "plt.plot(ce_train/X_train_news.shape[0], label='train')\n",
        "plt.plot(ce_valid/X_valid_news.shape[0], label='valid')\n",
        "plt.xlabel(\"iteration\")\n",
        "plt.ylabel(\"CE\")\n",
        "plt.legend()\n",
        "\n",
        "plt.savefig(\"training_ce.png\", bbox_inches=\"tight\", dpi=300)\n",
        "plt.show()"
      ]
    },
    {
      "cell_type": "markdown",
      "metadata": {
        "id": "5QeSEbI3wwhu"
      },
      "source": [
        "###Checking the Gradient "
      ]
    },
    {
      "cell_type": "code",
      "execution_count": null,
      "metadata": {
        "colab": {
          "background_save": true
        },
        "id": "CvPqG4HbCZx7",
        "outputId": "78616b5d-c09d-45f1-80d2-1b663fce570b"
      },
      "outputs": [
        {
          "data": {
            "text/plain": [
              "2.7810253673725844e-13"
            ]
          },
          "execution_count": 54,
          "metadata": {},
          "output_type": "execute_result"
        }
      ],
      "source": [
        "multiClass_model.check_grad(X_train_n, y_train_n)"
      ]
    },
    {
      "cell_type": "markdown",
      "metadata": {
        "id": "YJJAVTytw5f8"
      },
      "source": [
        "###Accuracy of Multiclass Logistic regression"
      ]
    },
    {
      "cell_type": "code",
      "execution_count": null,
      "metadata": {
        "colab": {
          "background_save": true
        },
        "id": "IMSM2zeSi-Y-",
        "outputId": "62e22563-debe-4d2f-fc88-599e207ec294"
      },
      "outputs": [
        {
          "name": "stdout",
          "output_type": "stream",
          "text": [
            "0.7517879680269247\n"
          ]
        }
      ],
      "source": [
        "# training accuracy\n",
        "train_accuracy = evaluate(multiClass_model.predict(X_train_n), y_train_n)\n",
        "print(train_accuracy)"
      ]
    },
    {
      "cell_type": "code",
      "execution_count": null,
      "metadata": {
        "colab": {
          "background_save": true
        },
        "id": "5VFofcJ-qLtu",
        "outputId": "080d354b-2ed0-4bfb-9b6a-d57d97e40627"
      },
      "outputs": [
        {
          "data": {
            "text/plain": [
              "(1582, 39)"
            ]
          },
          "execution_count": 56,
          "metadata": {},
          "output_type": "execute_result"
        }
      ],
      "source": [
        "# convert testing data into a bag of words with only the featured words we found earlier\n",
        "test_vectorizer = CountVectorizer(vocabulary=feature_words)\n",
        "X_test_news = test_vectorizer.fit_transform(test_dataset.data)\n",
        "X_test_news = X_test_news.toarray()\n",
        "X_test_news = np.array(X_test_news, dtype = np.float128)\n",
        "X_test_news.shape"
      ]
    },
    {
      "cell_type": "code",
      "execution_count": null,
      "metadata": {
        "colab": {
          "background_save": true
        },
        "id": "UXmfMDhArjoI",
        "outputId": "0312a02d-3e65-46e5-ea55-98c0013f09d9"
      },
      "outputs": [
        {
          "data": {
            "text/plain": [
              "(1582, 4)"
            ]
          },
          "execution_count": 57,
          "metadata": {},
          "output_type": "execute_result"
        }
      ],
      "source": [
        "# one-hot encode y_test data\n",
        "y_test_news = LabelBinarizer().fit_transform(test_dataset.target)\n",
        "y_test_news.shape"
      ]
    },
    {
      "cell_type": "code",
      "execution_count": null,
      "metadata": {
        "colab": {
          "background_save": true
        },
        "id": "ruci_K8AsnO8",
        "outputId": "1ffc1835-b55e-4335-d899-9a8637a5e96b"
      },
      "outputs": [
        {
          "name": "stdout",
          "output_type": "stream",
          "text": [
            "0.7123893805309734\n"
          ]
        }
      ],
      "source": [
        "# evaluate test accuracy\n",
        "test_accuracy = evaluate(multiClass_model.predict(X_test_news), y_test_news)\n",
        "print(test_accuracy)"
      ]
    },
    {
      "cell_type": "markdown",
      "metadata": {
        "id": "XC1MBldRclhz"
      },
      "source": [
        "### Accuracy of KNN"
      ]
    },
    {
      "cell_type": "code",
      "execution_count": null,
      "metadata": {
        "colab": {
          "background_save": true
        },
        "id": "XZMOfoFXc2-E",
        "outputId": "11b31cec-0aa4-4b01-bf51-0a3825024abd"
      },
      "outputs": [
        {
          "name": "stdout",
          "output_type": "stream",
          "text": [
            "{1: 0.6144121365360303,\n",
            " 2: 0.5176991150442478,\n",
            " 3: 0.6219974715549936,\n",
            " 4: 0.488621997471555,\n",
            " 5: 0.5448798988621998,\n",
            " 6: 0.49620733249051835,\n",
            " 7: 0.5316055625790139,\n",
            " 8: 0.4974715549936789,\n",
            " 9: 0.5189633375474083}\n",
            "Best K: 3 with acc: 0.6219974715549936\n"
          ]
        },
        {
          "data": {
            "text/plain": [
              "3"
            ]
          },
          "execution_count": 59,
          "metadata": {},
          "output_type": "execute_result"
        }
      ],
      "source": [
        "## 20 news group \n",
        "get_knn(X_train_n, y_train_n, X_test_news, y_test_news)"
      ]
    },
    {
      "cell_type": "markdown",
      "metadata": {
        "id": "bJKz3e-x64Rv"
      },
      "source": [
        "### Convergence graph"
      ]
    },
    {
      "cell_type": "code",
      "execution_count": null,
      "metadata": {
        "colab": {
          "background_save": true
        },
        "id": "SqJIkwaS6373",
        "outputId": "d152b39a-935a-4dec-aadb-da009937ee6b"
      },
      "outputs": [
        {
          "data": {
            "image/png": "[encoded data removed]",
            "text/plain": [
              "<Figure size 432x288 with 1 Axes>"
            ]
          },
          "metadata": {},
          "output_type": "display_data"
        }
      ],
      "source": [
        "learning_rates = [0.005, 0.003, 0.001, 0.0007]\n",
        "\n",
        "plt.clf()\n",
        "for learning_rate in learning_rates:\n",
        "  multiClass_model = Multinomial_logistic(X_train_news.shape[1],y_train_news.shape[1]) \n",
        "  multiClass_model.W = np.array(multiClass_model.W, dtype = np.float128)\n",
        "  ce_train, _ = multiClass_model.fit(X_train_news, y_train_news, X_valid_news, y_valid_news, niter=1000, lr=learning_rate, early_stop=True)\n",
        "  plt.plot(ce_train/X_train_news.shape[0], label=f'train for {learning_rate}')\n",
        "\n",
        "plt.xlabel(\"iteration\")\n",
        "plt.ylabel(\"CE\")\n",
        "plt.legend()\n",
        "\n",
        "plt.savefig(\"mr_convergence_graph.png\", bbox_inches=\"tight\", dpi=300)\n",
        "plt.show()"
      ]
    },
    {
      "cell_type": "code",
      "execution_count": null,
      "metadata": {
        "colab": {
          "background_save": true
        },
        "id": "xCT5_e2l7MnL",
        "outputId": "55ead67a-b5e3-4ded-8802-01aae490b6a8"
      },
      "outputs": [
        {
          "data": {
            "text/plain": [
              "<Figure size 432x288 with 0 Axes>"
            ]
          },
          "metadata": {},
          "output_type": "display_data"
        }
      ],
      "source": [
        "plt.savefig(\"mr_convergence_graph.png\", dpi=300)"
      ]
    },
    {
      "cell_type": "markdown",
      "metadata": {
        "id": "zcxc2JhB2GqM"
      },
      "source": [
        "### HeatMap "
      ]
    },
    {
      "cell_type": "code",
      "execution_count": null,
      "metadata": {
        "colab": {
          "background_save": true
        },
        "id": "40wfgzxgO-tw",
        "outputId": "8df4577e-9de9-4023-da07-f63f96b6657c"
      },
      "outputs": [
        {
          "name": "stdout",
          "output_type": "stream",
          "text": [
            "['0: comp.graphics', '1: rec.sport.hockey', '2: sci.med', '3: soc.religion.christian']\n"
          ]
        }
      ],
      "source": [
        "print([f\"{i}: {name}\" for i, name in enumerate(train_dataset.target_names)]) "
      ]
    },
    {
      "cell_type": "code",
      "execution_count": null,
      "metadata": {
        "colab": {
          "background_save": true
        },
        "id": "UM9wcoSq2lG4",
        "outputId": "a496024a-b81a-4f2b-f0bf-c06cfcf17e74"
      },
      "outputs": [
        {
          "name": "stdout",
          "output_type": "stream",
          "text": [
            "Most important words per category:\n",
            "{'comp.graphics': array(['file', 'files', 'who', 'he', 'graphics'], dtype=object),\n",
            " 'rec.sport.hockey': array(['nhl', 'season', 'hockey', 'game', 'team'], dtype=object),\n",
            " 'sci.med': array(['n3jxp', 'chastity', 'geb', 'gordon', 'banks'], dtype=object),\n",
            " 'soc.religion.christian': array(['christians', 'bible', 'christ', 'jesus', 'god'], dtype=object)}\n"
          ]
        }
      ],
      "source": [
        "#selecting top 5 features from each category\n",
        "words_5 = getBagWords(train_dataset, 5)\n",
        "words_5 = np.array(words_5).flatten()\n",
        "count_5 = CountVectorizer(vocabulary=words_5)\n",
        "X_train_count_5 = count_5.fit_transform(train_dataset.data)\n",
        "y_train_count_5 = LabelBinarizer().fit_transform(train_dataset.target)\n",
        "X_train_count_5 = X_train_count_5.toarray()\n",
        "X_train_count_5 = np.array(X_train_count_5, dtype = np.float128)"
      ]
    },
    {
      "cell_type": "code",
      "execution_count": null,
      "metadata": {
        "colab": {
          "background_save": true
        },
        "id": "kXECf2H63HXt",
        "outputId": "5d46333b-2fa4-47f9-8f02-faa2e3be4f74"
      },
      "outputs": [
        {
          "data": {
            "text/plain": [
              "(array([2542.80082713, 2379.78079447, 2301.25275524, 2249.59150492,\n",
              "        2210.8824781 , 2179.61396772, 2153.48096074, 2131.18846815,\n",
              "        2111.88444365, 2094.96659089, 2079.9908635 , 2066.62053713,\n",
              "        2054.59477717, 2043.70798573, 2033.7956738 , 2024.72451544,\n",
              "        2016.38518591, 2008.6871064 , 2001.55452406, 1994.92354538,\n",
              "        1988.73986125, 1982.95698183, 1977.53485165, 1972.43875239,\n",
              "        1967.6384253 , 1963.10736334, 1958.82223568, 1954.76241629,\n",
              "        1950.90959514, 1947.24745549, 1943.76140435, 1940.43834614,\n",
              "        1937.26649156, 1934.23519544, 1931.33481843, 1928.55660862,\n",
              "        1925.89259967, 1923.33552289, 1920.87873101, 1918.51613189,\n",
              "        1916.24213062, 1914.05157887, 1911.93973035, 1909.90220159,\n",
              "        1907.93493726, 1906.03417952, 1904.19644068, 1902.41847896,\n",
              "        1900.69727678, 1899.0300214 , 1897.4140875 , 1895.84702157,\n",
              "        1894.32652785, 1892.85045562, 1891.41678778, 1890.02363041,\n",
              "        1888.66920339, 1887.35183183, 1886.0699383 , 1884.82203571,\n",
              "        1883.60672085, 1882.42266848, 1881.26862588, 1880.14340791,\n",
              "        1879.04589242, 1877.9750161 , 1876.92977056, 1875.90919883,\n",
              "        1874.91239207, 1873.9384865 , 1872.98666067, 1872.0561328 ,\n",
              "        1871.14615843, 1870.25602813, 1869.38506553, 1868.53262528,\n",
              "        1867.69809137, 1866.88087539, 1866.08041501, 1865.29617254,\n",
              "        1864.52763355, 1863.77430564, 1863.03571723, 1862.31141651,\n",
              "        1861.60097031, 1860.90396324, 1860.2199967 , 1859.54868807,\n",
              "        1858.88966989, 1858.24258911, 1857.60710639, 1856.98289542,\n",
              "        1856.36964231, 1855.76704498, 1855.1748126 , 1854.5926651 ,\n",
              "        1854.02033262, 1853.4575551 , 1852.90408177, 1852.35967079]),\n",
              " array([0., 0., 0., 0., 0., 0., 0., 0., 0., 0., 0., 0., 0., 0., 0., 0., 0.,\n",
              "        0., 0., 0., 0., 0., 0., 0., 0., 0., 0., 0., 0., 0., 0., 0., 0., 0.,\n",
              "        0., 0., 0., 0., 0., 0., 0., 0., 0., 0., 0., 0., 0., 0., 0., 0., 0.,\n",
              "        0., 0., 0., 0., 0., 0., 0., 0., 0., 0., 0., 0., 0., 0., 0., 0., 0.,\n",
              "        0., 0., 0., 0., 0., 0., 0., 0., 0., 0., 0., 0., 0., 0., 0., 0., 0.,\n",
              "        0., 0., 0., 0., 0., 0., 0., 0., 0., 0., 0., 0., 0., 0., 0.]))"
            ]
          },
          "execution_count": 64,
          "metadata": {},
          "output_type": "execute_result"
        }
      ],
      "source": [
        "model_5 = Multinomial_logistic(nFeatures=X_train_count_5.shape[1], nClasses=y_train_count_5.shape[1]) \n",
        "model_5.fit(X_train_count_5, y_train_count_5)"
      ]
    },
    {
      "cell_type": "code",
      "execution_count": null,
      "metadata": {
        "colab": {
          "background_save": true
        },
        "id": "djiFFD8b2JRA",
        "outputId": "c722fa14-3ee8-4e13-f3ea-3a8814c63e3f"
      },
      "outputs": [
        {
          "data": {
            "image/png": "[encoded data removed]",
            "text/plain": [
              "<Figure size 432x288 with 2 Axes>"
            ]
          },
          "metadata": {},
          "output_type": "display_data"
        }
      ],
      "source": [
        "from seaborn import heatmap\n",
        "W_hat = model_5.W\n",
        "y_axis_labels = words_5\n",
        "x_axis_labels = ['comp.graphics', 'rec.sport.hockey', 'sci.med', 'soc.religion.christian']\n",
        "hmp = heatmap(W_hat, cmap='RdBu_r', center=0, xticklabels = x_axis_labels, yticklabels=y_axis_labels)\n",
        "hmp.set_xticklabels(hmp.get_xticklabels(), rotation=45, horizontalalignment='right')\n",
        "fig = hmp.get_figure()\n",
        "fig.savefig(\"heatmap1.png\", bbox_inches='tight')"
      ]
    },
    {
      "cell_type": "markdown",
      "metadata": {
        "id": "ezSB5tqO_diq"
      },
      "source": [
        "### Accuracy as a function of data set size"
      ]
    },
    {
      "cell_type": "code",
      "execution_count": null,
      "metadata": {
        "id": "81rSckj2_cUp"
      },
      "outputs": [],
      "source": [
        "from sklearn.model_selection import train_test_split\n",
        "accuracies_MR = []\n",
        "accuracies_KNN = []\n",
        "\n",
        "SIZES =  [0.2, 0.4, 0.6, 0.8, 1.0]\n",
        "N = X_train_n.shape[0]\n",
        "\n",
        "# For different sizes of training set, record the accuracy on the held out test set\n",
        "for train_size in SIZES:\n",
        "    test_size = 1.0 - train_size\n",
        "    print(f\"--Models with N = {int(N*train_size)} observations\")\n",
        "    \n",
        "    # Sub sample the training set\n",
        "    if test_size != 0:\n",
        "      trainX, _, trainY, _ = train_test_split(X_train_n, y_train_n, test_size=test_size, random_state=0)\n",
        "    else:\n",
        "      trainX, trainY = X_train_n, y_train_n\n",
        "\n",
        "    # Logistic regression\n",
        "    multiClass_model = Multinomial_logistic(trainX.shape[1],trainY.shape[1]) \n",
        "    trainX = np.array(trainX, dtype = np.float128)\n",
        "    multiClass_model.W = np.array(multiClass_model.W, dtype = np.float128)\n",
        "    \n",
        "    mcl, _ = multiClass_model.fit(trainX, trainY, niter=1000)\n",
        "\n",
        "    test_accuracy = evaluate(multiClass_model.predict(X_test_news), y_test_news)\n",
        "    print(\"Done fitting MR\")\n",
        "    accuracies_MR.append(test_accuracy)\n",
        "\n",
        "    # KNN\n",
        "    KNN_model = KNeighborsClassifier(n_neighbors=3)\n",
        "    KNN_model.fit(trainX, trainY)\n",
        "    knn_predY = KNN_model.predict(X_test_news)\n",
        "    knn_accuracy = accuracy_score(knn_predY, y_test_news)\n",
        "    print(\"Done fitting KNN\")\n",
        "    accuracies_KNN.append(knn_accuracy)"
      ]
    },
    {
      "cell_type": "code",
      "execution_count": null,
      "metadata": {
        "colab": {
          "background_save": true
        },
        "id": "CghFnOEnAAAx",
        "outputId": "6c22e902-2e9c-4c94-9647-c05467e794f3"
      },
      "outputs": [
        {
          "name": "stdout",
          "output_type": "stream",
          "text": [
            "Now plotting Accuracy as a function of training set size\n"
          ]
        },
        {
          "data": {
            "text/plain": [
              "<Figure size 432x288 with 0 Axes>"
            ]
          },
          "metadata": {},
          "output_type": "display_data"
        },
        {
          "data": {
            "image/png": "[encoded data removed]",
            "text/plain": [
              "<Figure size 432x288 with 1 Axes>"
            ]
          },
          "metadata": {},
          "output_type": "display_data"
        },
        {
          "data": {
            "text/plain": [
              "<Figure size 576x576 with 0 Axes>"
            ]
          },
          "metadata": {},
          "output_type": "display_data"
        }
      ],
      "source": [
        "print(\"Now plotting Accuracy as a function of training set size\")\n",
        "\n",
        "# Plot Accuracy as function of training set size\n",
        "plt.clf()\n",
        "\n",
        "labels = ['20%', '40%', '60%', '80%', '100%']\n",
        "x_axis = np.arange(len(labels))\n",
        "bar_width = 0.30\n",
        "\n",
        "fig, ax = plt.subplots()\n",
        "plt.figure(figsize=(8,8))\n",
        "mr_bars = ax.bar(x_axis - bar_width/2, accuracies_MR, bar_width, label='MultiReg')\n",
        "knn_bars = ax.bar(x_axis + bar_width/2, accuracies_KNN, bar_width, label='KNN')\n",
        "\n",
        "# Text for labels, title and custom x-axis labels\n",
        "\n",
        "ax.set_ylabel('Accuracy')\n",
        "ax.set_title('Accuracy by model and data size')\n",
        "ax.set_xticks(x_axis)\n",
        "ax.set_xticklabels(labels)\n",
        "ax.legend()\n",
        "\n",
        "def autolabel(rects):\n",
        "    \"\"\"Attach a text label above each bar in *rects*, displaying its height.\"\"\"\n",
        "    for rect in rects:\n",
        "        height = round(rect.get_height(),3)\n",
        "        ax.annotate('{}'.format(height),\n",
        "                    xy=(rect.get_x() + rect.get_width() / 2, height),\n",
        "                    xytext=(0, 3),  # 3 points vertical offset\n",
        "                    textcoords=\"offset points\",\n",
        "                    ha='center', va='bottom')\n",
        "\n",
        "autolabel(mr_bars)\n",
        "autolabel(knn_bars)\n",
        "\n",
        "fig.tight_layout()\n",
        "fig.savefig(\"multi-class-bar.png\")\n",
        "plt.show()"
      ]
    },
    {
      "cell_type": "markdown",
      "metadata": {
        "id": "GykkHeS2RxbR"
      },
      "source": [
        "#code to download all saved graphs"
      ]
    },
    {
      "cell_type": "code",
      "execution_count": null,
      "metadata": {
        "colab": {
          "base_uri": "https://localhost:8080/"
        },
        "id": "wulayS3vH6f0",
        "outputId": "75c5b880-4ff0-4906-9298-0066eca18fb7"
      },
      "outputs": [
        {
          "name": "stdout",
          "output_type": "stream",
          "text": [
            "Mounted at /content/drive\n"
          ]
        }
      ],
      "source": [
        "#from google.colab import drive\n",
        "#drive.mount('/content/drive')"
      ]
    },
    {
      "cell_type": "code",
      "execution_count": null,
      "metadata": {
        "colab": {
          "base_uri": "https://localhost:8080/"
        },
        "id": "adxctvnV2VOn",
        "outputId": "1a719fc0-9d61-44c6-d6b5-d417180a5e55"
      },
      "outputs": [
        {
          "name": "stdout",
          "output_type": "stream",
          "text": [
            "  adding: Graphs/ (stored 0%)\n",
            "  adding: Graphs/Most positive weights.png (deflated 23%)\n",
            "  adding: Graphs/mr_convergence_graph.png (deflated 97%)\n",
            "  adding: Graphs/.ipynb_checkpoints/ (stored 0%)\n",
            "  adding: Graphs/Most Negative.png (deflated 25%)\n",
            "  adding: Graphs/Most Positive.png (deflated 25%)\n",
            "  adding: Graphs/LR_monitor_CE.png (deflated 16%)\n",
            "  adding: Graphs/training_ce.png (deflated 19%)\n",
            "  adding: Graphs/multi-class-bar.png (deflated 12%)\n",
            "  adding: Graphs/AUROC_by_data_size.png (deflated 17%)\n",
            "  adding: Graphs/ROC_curves.png (deflated 10%)\n",
            "  adding: Graphs/Accuracy_by_data_size_binary.png (deflated 98%)\n",
            "  adding: Graphs/Most negative weights.png (deflated 23%)\n",
            "  adding: Graphs/heatmap1.png (deflated 8%)\n"
          ]
        }
      ],
      "source": [
        "#!zip -r /content/file.zip /Graphs/"
      ]
    },
    {
      "cell_type": "code",
      "execution_count": null,
      "metadata": {
        "colab": {
          "base_uri": "https://localhost:8080/",
          "height": 17
        },
        "id": "To-vTWV92Xey",
        "outputId": "ebcc1281-0ca7-466b-923f-b5a7d86a69ad"
      },
      "outputs": [
        {
          "data": {
            "application/javascript": "\n    async function download(id, filename, size) {\n      if (!google.colab.kernel.accessAllowed) {\n        return;\n      }\n      const div = document.createElement('div');\n      const label = document.createElement('label');\n      label.textContent = `Downloading \"${filename}\": `;\n      div.appendChild(label);\n      const progress = document.createElement('progress');\n      progress.max = size;\n      div.appendChild(progress);\n      document.body.appendChild(div);\n\n      const buffers = [];\n      let downloaded = 0;\n\n      const channel = await google.colab.kernel.comms.open(id);\n      // Send a message to notify the kernel that we're ready.\n      channel.send({})\n\n      for await (const message of channel.messages) {\n        // Send a message to notify the kernel that we're ready.\n        channel.send({})\n        if (message.buffers) {\n          for (const buffer of message.buffers) {\n            buffers.push(buffer);\n            downloaded += buffer.byteLength;\n            progress.value = downloaded;\n          }\n        }\n      }\n      const blob = new Blob(buffers, {type: 'application/binary'});\n      const a = document.createElement('a');\n      a.href = window.URL.createObjectURL(blob);\n      a.download = filename;\n      div.appendChild(a);\n      a.click();\n      div.remove();\n    }\n  ",
            "text/plain": [
              "<IPython.core.display.Javascript object>"
            ]
          },
          "metadata": {},
          "output_type": "display_data"
        },
        {
          "data": {
            "application/javascript": "download(\"download_ef3e124c-a3cb-438c-b69b-bfc03872681c\", \"file.zip\", 469324)",
            "text/plain": [
              "<IPython.core.display.Javascript object>"
            ]
          },
          "metadata": {},
          "output_type": "display_data"
        }
      ],
      "source": [
        "#from google.colab import files\n",
        "#files.download(\"/content/file.zip\")"
      ]
    }
  ],
  "metadata": {
    "colab": {
      "collapsed_sections": [
        "BK31MMMt7_HV",
        "C3AIlJqXC09k",
        "8OzMTFQQ-VgH",
        "X9QM5Ziz6jmr",
        "D6ZJgnTtkH-L",
        "n0U7cvHFkLMV",
        "hhpOxADLR0xk",
        "GykkHeS2RxbR"
      ],
      "provenance": []
    },
    "gpuClass": "standard",
    "kernelspec": {
      "display_name": "Python 3",
      "language": "python",
      "name": "python3"
    },
    "language_info": {
      "name": "python",
      "version": "3.9.2 (tags/v3.9.2:1a79785, Feb 19 2021, 13:44:55) [MSC v.1928 64 bit (AMD64)]"
    },
    "vscode": {
      "interpreter": {
        "hash": "5604dc03cdded3f66e7e8dd45ef82abfd0ebb791e90aefdc8483a08093287795"
      }
    }
  },
  "nbformat": 4,
  "nbformat_minor": 0
}
